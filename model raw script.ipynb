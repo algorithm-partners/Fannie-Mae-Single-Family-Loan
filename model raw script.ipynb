{
 "cells": [
  {
   "cell_type": "code",
   "execution_count": 3,
   "metadata": {},
   "outputs": [],
   "source": [
    "import numpy as np\n",
    "import pandas as pd"
   ]
  },
  {
   "cell_type": "code",
   "execution_count": 4,
   "metadata": {},
   "outputs": [],
   "source": [
    "from imblearn.under_sampling import RandomUnderSampler"
   ]
  },
  {
   "cell_type": "code",
   "execution_count": 5,
   "metadata": {},
   "outputs": [],
   "source": [
    "from sklearn.metrics import accuracy_score\n",
    "from sklearn.metrics import precision_score\n",
    "from sklearn.metrics import recall_score\n",
    "from sklearn.metrics import roc_auc_score"
   ]
  },
  {
   "cell_type": "code",
   "execution_count": 6,
   "metadata": {},
   "outputs": [],
   "source": [
    "from sklearn.dummy import DummyRegressor\n",
    "from sklearn.linear_model import LogisticRegression\n",
    "from sklearn.tree import DecisionTreeClassifier\n",
    "from sklearn.neighbors import KNeighborsClassifier\n",
    "from sklearn.metrics import accuracy_score\n",
    "from sklearn.metrics import precision_score\n",
    "from sklearn.metrics import recall_score\n",
    "from sklearn.metrics import roc_auc_score\n",
    "from sklearn.ensemble import RandomForestClassifier\n",
    "from sklearn.svm import SVC\n",
    "from sklearn.naive_bayes import GaussianNB"
   ]
  },
  {
   "cell_type": "code",
   "execution_count": 7,
   "metadata": {},
   "outputs": [
    {
     "name": "stderr",
     "output_type": "stream",
     "text": [
      "ERROR:root:Internal Python error in the inspect module.\n",
      "Below is the traceback from this internal error.\n",
      "\n"
     ]
    },
    {
     "name": "stdout",
     "output_type": "stream",
     "text": [
      "Traceback (most recent call last):\n",
      "  File \"/anaconda3/lib/python3.7/site-packages/IPython/core/interactiveshell.py\", line 3296, in run_code\n",
      "    exec(code_obj, self.user_global_ns, self.user_ns)\n",
      "  File \"<ipython-input-7-88f10fafc4c9>\", line 1, in <module>\n",
      "    df_2012 = pd.read_csv('2012_model_data.csv', index_col = 0)\n",
      "  File \"/anaconda3/lib/python3.7/site-packages/pandas/io/parsers.py\", line 702, in parser_f\n",
      "    return _read(filepath_or_buffer, kwds)\n",
      "  File \"/anaconda3/lib/python3.7/site-packages/pandas/io/parsers.py\", line 435, in _read\n",
      "    data = parser.read(nrows)\n",
      "  File \"/anaconda3/lib/python3.7/site-packages/pandas/io/parsers.py\", line 1139, in read\n",
      "    ret = self._engine.read(nrows)\n",
      "  File \"/anaconda3/lib/python3.7/site-packages/pandas/io/parsers.py\", line 1995, in read\n",
      "    data = self._reader.read(nrows)\n",
      "  File \"pandas/_libs/parsers.pyx\", line 899, in pandas._libs.parsers.TextReader.read\n",
      "  File \"pandas/_libs/parsers.pyx\", line 914, in pandas._libs.parsers.TextReader._read_low_memory\n",
      "  File \"pandas/_libs/parsers.pyx\", line 991, in pandas._libs.parsers.TextReader._read_rows\n",
      "  File \"pandas/_libs/parsers.pyx\", line 1123, in pandas._libs.parsers.TextReader._convert_column_data\n",
      "  File \"pandas/_libs/parsers.pyx\", line 1169, in pandas._libs.parsers.TextReader._convert_tokens\n",
      "  File \"pandas/_libs/parsers.pyx\", line 1215, in pandas._libs.parsers.TextReader._convert_with_dtype\n",
      "  File \"/anaconda3/lib/python3.7/site-packages/pandas/core/dtypes/common.py\", line 572, in is_categorical_dtype\n",
      "    def is_categorical_dtype(arr_or_dtype):\n",
      "KeyboardInterrupt\n",
      "\n",
      "During handling of the above exception, another exception occurred:\n",
      "\n",
      "Traceback (most recent call last):\n",
      "  File \"/anaconda3/lib/python3.7/site-packages/IPython/core/interactiveshell.py\", line 2033, in showtraceback\n",
      "    stb = value._render_traceback_()\n",
      "AttributeError: 'KeyboardInterrupt' object has no attribute '_render_traceback_'\n",
      "\n",
      "During handling of the above exception, another exception occurred:\n",
      "\n",
      "Traceback (most recent call last):\n",
      "  File \"/anaconda3/lib/python3.7/site-packages/IPython/core/ultratb.py\", line 1095, in get_records\n",
      "    return _fixed_getinnerframes(etb, number_of_lines_of_context, tb_offset)\n",
      "  File \"/anaconda3/lib/python3.7/site-packages/IPython/core/ultratb.py\", line 313, in wrapped\n",
      "    return f(*args, **kwargs)\n",
      "  File \"/anaconda3/lib/python3.7/site-packages/IPython/core/ultratb.py\", line 347, in _fixed_getinnerframes\n",
      "    records = fix_frame_records_filenames(inspect.getinnerframes(etb, context))\n",
      "  File \"/anaconda3/lib/python3.7/inspect.py\", line 1502, in getinnerframes\n",
      "    frameinfo = (tb.tb_frame,) + getframeinfo(tb, context)\n",
      "  File \"/anaconda3/lib/python3.7/inspect.py\", line 1464, in getframeinfo\n",
      "    lines, lnum = findsource(frame)\n",
      "  File \"/anaconda3/lib/python3.7/site-packages/IPython/core/ultratb.py\", line 167, in findsource\n",
      "    file = getsourcefile(object) or getfile(object)\n",
      "  File \"/anaconda3/lib/python3.7/inspect.py\", line 696, in getsourcefile\n",
      "    if getattr(getmodule(object, filename), '__loader__', None) is not None:\n",
      "  File \"/anaconda3/lib/python3.7/inspect.py\", line 735, in getmodule\n",
      "    if f == _filesbymodname.get(modname, None):\n",
      "KeyboardInterrupt\n"
     ]
    },
    {
     "ename": "KeyboardInterrupt",
     "evalue": "",
     "output_type": "error",
     "traceback": [
      "\u001b[0;31m---------------------------------------------------------------------------\u001b[0m"
     ]
    }
   ],
   "source": [
    "df_2012 = pd.read_csv('2012_model_data.csv', index_col = 0)\n",
    "df_2013 = pd.read_csv('2013_model_data.csv', index_col = 0)\n",
    "df_2014 = pd.read_csv('2014_model_data.csv', index_col = 0)\n",
    "df_2015 = pd.read_csv('2015_model_data.csv', index_col = 0)\n",
    "df_2016 = pd.read_csv('2016_model_data.csv', index_col = 0)\n",
    "df_2017 = pd.read_csv('2017_model_data.csv', index_col = 0)"
   ]
  },
  {
   "cell_type": "code",
   "execution_count": null,
   "metadata": {},
   "outputs": [],
   "source": [
    "df_train = pd.concat([df_2012,df_2013,df_2014,df_2015,df_2016])\n",
    "df_test = df_2017"
   ]
  },
  {
   "cell_type": "code",
   "execution_count": null,
   "metadata": {},
   "outputs": [],
   "source": [
    "X_train = df_train[['LAST_RT', 'LAST_UPB', 'LOAN_AGE', 'ORIG_RT', 'ORIG_AMT', 'OLTV',\n",
    "       'NUM_BO', 'DTI', 'CSCORE_B', 'NUM_UNIT', 'first_home_buyer',\n",
    "       'loan_purpose_purchase', 'loan_purpose_no_cash_out_refinance',\n",
    "       'loan_purpose_cash_out_refinance', 'property_type_single_family',\n",
    "       'property_type_condo', 'property_type_coop',\n",
    "       'property_type_manufactured_housing',\n",
    "       'property_type_planed_urban_development', 'occupancy_status_principal',\n",
    "       'occupancy_status_second', 'occupancy_status_investor',\n",
    "       'original_housing_value', 'Average_same_state_upb', 'loan_size',\n",
    "       'hpi_factor', 'mltv', 'slope','slope1', 'modified']]"
   ]
  },
  {
   "cell_type": "code",
   "execution_count": null,
   "metadata": {},
   "outputs": [],
   "source": [
    "y_train = df_train['60_days_delinq']"
   ]
  },
  {
   "cell_type": "code",
   "execution_count": null,
   "metadata": {},
   "outputs": [],
   "source": [
    "X_test = df_test[['LAST_RT', 'LAST_UPB', 'LOAN_AGE', 'ORIG_RT', 'ORIG_AMT', 'OLTV',\n",
    "       'NUM_BO', 'DTI', 'CSCORE_B', 'NUM_UNIT', 'first_home_buyer',\n",
    "       'loan_purpose_purchase', 'loan_purpose_no_cash_out_refinance',\n",
    "       'loan_purpose_cash_out_refinance', 'property_type_single_family',\n",
    "       'property_type_condo', 'property_type_coop',\n",
    "       'property_type_manufactured_housing',\n",
    "       'property_type_planed_urban_development', 'occupancy_status_principal',\n",
    "       'occupancy_status_second', 'occupancy_status_investor',\n",
    "       'original_housing_value', 'Average_same_state_upb', 'loan_size',\n",
    "       'hpi_factor', 'mltv', 'slope', 'slope1', 'modified']]"
   ]
  },
  {
   "cell_type": "code",
   "execution_count": null,
   "metadata": {},
   "outputs": [],
   "source": [
    "y_test = df_test['60_days_delinq']"
   ]
  },
  {
   "cell_type": "code",
   "execution_count": 77,
   "metadata": {},
   "outputs": [],
   "source": [
    "rus = RandomUnderSampler(1/9)"
   ]
  },
  {
   "cell_type": "code",
   "execution_count": 78,
   "metadata": {},
   "outputs": [],
   "source": [
    "X_train_u,y_train_u = rus.fit_resample(X_train,y_train)\n",
    "X_test_u,y_test_u = rus.fit_resample(X_test,y_test)"
   ]
  },
  {
   "cell_type": "code",
   "execution_count": 82,
   "metadata": {},
   "outputs": [
    {
     "data": {
      "text/plain": [
       "0.9000752079278004"
      ]
     },
     "execution_count": 82,
     "metadata": {},
     "output_type": "execute_result"
    }
   ],
   "source": [
    "model = LogisticRegression()\n",
    "model.fit(X_train_u,y_train_u)\n",
    "y_predicted_u  = model.predict(X_test_u)\n",
    "accuracy_score(y_test_u, y_predicted_u)"
   ]
  },
  {
   "cell_type": "code",
   "execution_count": 83,
   "metadata": {},
   "outputs": [
    {
     "data": {
      "text/plain": [
       "0.9883784898206388"
      ]
     },
     "execution_count": 83,
     "metadata": {},
     "output_type": "execute_result"
    }
   ],
   "source": [
    "len([i for i in y_test if i == 0])/len(y_test)"
   ]
  },
  {
   "cell_type": "code",
   "execution_count": 85,
   "metadata": {},
   "outputs": [
    {
     "data": {
      "text/plain": [
       "0.81749247920722"
      ]
     },
     "execution_count": 85,
     "metadata": {},
     "output_type": "execute_result"
    }
   ],
   "source": [
    "model2 = DecisionTreeClassifier()\n",
    "model2.fit(X_train_u,y_train_u)\n",
    "y_predicted_u2 = model2.predict(X_test_u)\n",
    "accuracy_score(y_test_u, y_predicted_u2)"
   ]
  },
  {
   "cell_type": "code",
   "execution_count": 87,
   "metadata": {},
   "outputs": [
    {
     "data": {
      "text/plain": [
       "0.8781852769421341"
      ]
     },
     "execution_count": 87,
     "metadata": {},
     "output_type": "execute_result"
    }
   ],
   "source": [
    "model3 = KNeighborsClassifier()\n",
    "model3.fit(X_train_u,y_train_u)\n",
    "y_predicted_u3 = model3.predict(X_test_u)\n",
    "accuracy_score(y_test_u, y_predicted_u3)"
   ]
  },
  {
   "cell_type": "code",
   "execution_count": 91,
   "metadata": {},
   "outputs": [
    {
     "data": {
      "text/plain": [
       "0.880914882321713"
      ]
     },
     "execution_count": 91,
     "metadata": {},
     "output_type": "execute_result"
    }
   ],
   "source": [
    "model4 = GaussianNB()\n",
    "model4.fit(X_train_u,y_train_u)\n",
    "y_predicted_u4 = model4.predict(X_test_u)\n",
    "accuracy_score(y_test_u, y_predicted_u4)"
   ]
  },
  {
   "cell_type": "code",
   "execution_count": 93,
   "metadata": {},
   "outputs": [
    {
     "name": "stderr",
     "output_type": "stream",
     "text": [
      "/home/zerap/anaconda3/lib/python3.7/site-packages/sklearn/ensemble/forest.py:246: FutureWarning: The default value of n_estimators will change from 10 in version 0.20 to 100 in 0.22.\n",
      "  \"10 in version 0.20 to 100 in 0.22.\", FutureWarning)\n"
     ]
    },
    {
     "data": {
      "text/plain": [
       "0.9163333923199434"
      ]
     },
     "execution_count": 93,
     "metadata": {},
     "output_type": "execute_result"
    }
   ],
   "source": [
    "model5 = RandomForestClassifier()\n",
    "model5.fit(X_train_u,y_train_u)\n",
    "y_predicted_u5 = model5.predict(X_test_u)\n",
    "accuracy_score(y_test_u, y_predicted_u5)"
   ]
  },
  {
   "cell_type": "code",
   "execution_count": 96,
   "metadata": {},
   "outputs": [],
   "source": [
    "rusa = RandomUnderSampler(1/3)"
   ]
  },
  {
   "cell_type": "code",
   "execution_count": 97,
   "metadata": {},
   "outputs": [],
   "source": [
    "X_train_ua,y_train_ua = rusa.fit_resample(X_train,y_train)\n",
    "X_test_ua,y_test_ua = rusa.fit_resample(X_test,y_test)"
   ]
  },
  {
   "cell_type": "code",
   "execution_count": 98,
   "metadata": {},
   "outputs": [
    {
     "name": "stderr",
     "output_type": "stream",
     "text": [
      "/home/zerap/anaconda3/lib/python3.7/site-packages/sklearn/linear_model/logistic.py:433: FutureWarning: Default solver will be changed to 'lbfgs' in 0.22. Specify a solver to silence this warning.\n",
      "  FutureWarning)\n"
     ]
    },
    {
     "data": {
      "text/plain": [
       "0.750188019819501"
      ]
     },
     "execution_count": 98,
     "metadata": {},
     "output_type": "execute_result"
    }
   ],
   "source": [
    "modela = LogisticRegression()\n",
    "modela.fit(X_train_ua,y_train_ua)\n",
    "y_predicted_ua  = model.predict(X_test_ua)\n",
    "accuracy_score(y_test_ua, y_predicted_ua)"
   ]
  },
  {
   "cell_type": "code",
   "execution_count": 99,
   "metadata": {},
   "outputs": [
    {
     "data": {
      "text/plain": [
       "0.692864094850469"
      ]
     },
     "execution_count": 99,
     "metadata": {},
     "output_type": "execute_result"
    }
   ],
   "source": [
    "modela2 = DecisionTreeClassifier()\n",
    "modela2.fit(X_train_ua,y_train_ua)\n",
    "y_predicted_ua2 = modela2.predict(X_test_ua)\n",
    "accuracy_score(y_test_ua, y_predicted_ua2)"
   ]
  },
  {
   "cell_type": "code",
   "execution_count": 100,
   "metadata": {},
   "outputs": [
    {
     "data": {
      "text/plain": [
       "0.68965669792957"
      ]
     },
     "execution_count": 100,
     "metadata": {},
     "output_type": "execute_result"
    }
   ],
   "source": [
    "modela3 = KNeighborsClassifier()\n",
    "modela3.fit(X_train_ua,y_train_ua)\n",
    "y_predicted_ua3 = modela3.predict(X_test_ua)\n",
    "accuracy_score(y_test_ua, y_predicted_ua3)"
   ]
  },
  {
   "cell_type": "code",
   "execution_count": 101,
   "metadata": {},
   "outputs": [
    {
     "data": {
      "text/plain": [
       "0.7621659883206512"
      ]
     },
     "execution_count": 101,
     "metadata": {},
     "output_type": "execute_result"
    }
   ],
   "source": [
    "modela4 = GaussianNB()\n",
    "modela4.fit(X_train_ua,y_train_ua)\n",
    "y_predicted_ua4 = modela4.predict(X_test_ua)\n",
    "accuracy_score(y_test_ua, y_predicted_ua4)"
   ]
  },
  {
   "cell_type": "code",
   "execution_count": 102,
   "metadata": {},
   "outputs": [
    {
     "name": "stderr",
     "output_type": "stream",
     "text": [
      "/home/zerap/anaconda3/lib/python3.7/site-packages/sklearn/ensemble/forest.py:246: FutureWarning: The default value of n_estimators will change from 10 in version 0.20 to 100 in 0.22.\n",
      "  \"10 in version 0.20 to 100 in 0.22.\", FutureWarning)\n"
     ]
    },
    {
     "data": {
      "text/plain": [
       "0.7994381525393736"
      ]
     },
     "execution_count": 102,
     "metadata": {},
     "output_type": "execute_result"
    }
   ],
   "source": [
    "modela5 = RandomForestClassifier()\n",
    "modela5.fit(X_train_ua,y_train_ua)\n",
    "y_predicted_ua5 = modela5.predict(X_test_ua)\n",
    "accuracy_score(y_test_ua, y_predicted_ua5)"
   ]
  },
  {
   "cell_type": "code",
   "execution_count": 103,
   "metadata": {},
   "outputs": [],
   "source": [
    "rusb = RandomUnderSampler(1/1)"
   ]
  },
  {
   "cell_type": "code",
   "execution_count": 104,
   "metadata": {},
   "outputs": [],
   "source": [
    "X_train_ub,y_train_ub = rusb.fit_resample(X_train,y_train)\n",
    "X_test_ub,y_test_ub = rusb.fit_resample(X_test,y_test)"
   ]
  },
  {
   "cell_type": "code",
   "execution_count": 112,
   "metadata": {},
   "outputs": [
    {
     "name": "stderr",
     "output_type": "stream",
     "text": [
      "/home/zerap/anaconda3/lib/python3.7/site-packages/sklearn/linear_model/logistic.py:433: FutureWarning: Default solver will be changed to 'lbfgs' in 0.22. Specify a solver to silence this warning.\n",
      "  FutureWarning)\n"
     ]
    },
    {
     "data": {
      "text/plain": [
       "0.5003760396390019"
      ]
     },
     "execution_count": 112,
     "metadata": {},
     "output_type": "execute_result"
    }
   ],
   "source": [
    "modelb = LogisticRegression()\n",
    "modelb.fit(X_train_ub,y_train_ub)\n",
    "y_predicted_ub  = model.predict(X_test_ub)\n",
    "accuracy_score(y_test_ub, y_predicted_ub)"
   ]
  },
  {
   "cell_type": "code",
   "execution_count": 106,
   "metadata": {},
   "outputs": [
    {
     "data": {
      "text/plain": [
       "0.6473190585737038"
      ]
     },
     "execution_count": 106,
     "metadata": {},
     "output_type": "execute_result"
    }
   ],
   "source": [
    "modelb2 = DecisionTreeClassifier()\n",
    "modelb2.fit(X_train_ub,y_train_ub)\n",
    "y_predicted_ub2 = modelb2.predict(X_test_ub)\n",
    "accuracy_score(y_test_ub, y_predicted_ub2)"
   ]
  },
  {
   "cell_type": "code",
   "execution_count": 107,
   "metadata": {},
   "outputs": [
    {
     "data": {
      "text/plain": [
       "0.5760927269509821"
      ]
     },
     "execution_count": 107,
     "metadata": {},
     "output_type": "execute_result"
    }
   ],
   "source": [
    "modelb3 = KNeighborsClassifier()\n",
    "modelb3.fit(X_train_ub,y_train_ub)\n",
    "y_predicted_ub3 = modelb3.predict(X_test_ub)\n",
    "accuracy_score(y_test_ub, y_predicted_ub3)"
   ]
  },
  {
   "cell_type": "code",
   "execution_count": 108,
   "metadata": {},
   "outputs": [
    {
     "data": {
      "text/plain": [
       "0.6940585737037692"
      ]
     },
     "execution_count": 108,
     "metadata": {},
     "output_type": "execute_result"
    }
   ],
   "source": [
    "modelb4 = GaussianNB()\n",
    "modelb4.fit(X_train_ub,y_train_ub)\n",
    "y_predicted_ub4 = modelb4.predict(X_test_ub)\n",
    "accuracy_score(y_test_ub, y_predicted_ub4)"
   ]
  },
  {
   "cell_type": "code",
   "execution_count": 109,
   "metadata": {},
   "outputs": [
    {
     "name": "stderr",
     "output_type": "stream",
     "text": [
      "/home/zerap/anaconda3/lib/python3.7/site-packages/sklearn/ensemble/forest.py:246: FutureWarning: The default value of n_estimators will change from 10 in version 0.20 to 100 in 0.22.\n",
      "  \"10 in version 0.20 to 100 in 0.22.\", FutureWarning)\n"
     ]
    },
    {
     "data": {
      "text/plain": [
       "0.7071093611750132"
      ]
     },
     "execution_count": 109,
     "metadata": {},
     "output_type": "execute_result"
    }
   ],
   "source": [
    "modelb5 = RandomForestClassifier()\n",
    "modelb5.fit(X_train_ub,y_train_ub)\n",
    "y_predicted_ub5 = modelb5.predict(X_test_ub)\n",
    "accuracy_score(y_test_ub, y_predicted_ub5)"
   ]
  },
  {
   "cell_type": "code",
   "execution_count": 111,
   "metadata": {},
   "outputs": [
    {
     "data": {
      "text/plain": [
       "0.5"
      ]
     },
     "execution_count": 111,
     "metadata": {},
     "output_type": "execute_result"
    }
   ],
   "source": [
    "len([i for i in y_test_ub if i == 1])/len(y_test_ub)"
   ]
  },
  {
   "cell_type": "code",
   "execution_count": 113,
   "metadata": {},
   "outputs": [
    {
     "name": "stderr",
     "output_type": "stream",
     "text": [
      "/home/zerap/anaconda3/lib/python3.7/site-packages/sklearn/linear_model/logistic.py:433: FutureWarning: Default solver will be changed to 'lbfgs' in 0.22. Specify a solver to silence this warning.\n",
      "  FutureWarning)\n"
     ]
    },
    {
     "data": {
      "text/plain": [
       "0.9883872301176239"
      ]
     },
     "execution_count": 113,
     "metadata": {},
     "output_type": "execute_result"
    }
   ],
   "source": [
    "modelo = LogisticRegression()\n",
    "modelo.fit(X_train,y_train)\n",
    "y_predicted  = model.predict(X_test)\n",
    "accuracy_score(y_test, y_predicted)"
   ]
  },
  {
   "cell_type": "code",
   "execution_count": 114,
   "metadata": {},
   "outputs": [
    {
     "data": {
      "text/plain": [
       "0.9541730805022484"
      ]
     },
     "execution_count": 114,
     "metadata": {},
     "output_type": "execute_result"
    }
   ],
   "source": [
    "modelo2 = DecisionTreeClassifier()\n",
    "modelo2.fit(X_train,y_train)\n",
    "y_predicted2 = modelo2.predict(X_test)\n",
    "accuracy_score(y_test, y_predicted2)"
   ]
  },
  {
   "cell_type": "code",
   "execution_count": 115,
   "metadata": {},
   "outputs": [
    {
     "data": {
      "text/plain": [
       "0.9880679522101127"
      ]
     },
     "execution_count": 115,
     "metadata": {},
     "output_type": "execute_result"
    }
   ],
   "source": [
    "modelo3 = KNeighborsClassifier()\n",
    "modelo3.fit(X_train,y_train)\n",
    "y_predicted_uo3 = modelo3.predict(X_test)\n",
    "accuracy_score(y_test, y_predicted_uo3)"
   ]
  },
  {
   "cell_type": "code",
   "execution_count": 116,
   "metadata": {},
   "outputs": [
    {
     "data": {
      "text/plain": [
       "0.9879975156991158"
      ]
     },
     "execution_count": 116,
     "metadata": {},
     "output_type": "execute_result"
    }
   ],
   "source": [
    "modelo4 = GaussianNB()\n",
    "modelo4.fit(X_train,y_train)\n",
    "y_predicted_uo4 = modelo4.predict(X_test)\n",
    "accuracy_score(y_test, y_predicted_uo4)"
   ]
  },
  {
   "cell_type": "code",
   "execution_count": 117,
   "metadata": {},
   "outputs": [
    {
     "name": "stderr",
     "output_type": "stream",
     "text": [
      "/home/zerap/anaconda3/lib/python3.7/site-packages/sklearn/ensemble/forest.py:246: FutureWarning: The default value of n_estimators will change from 10 in version 0.20 to 100 in 0.22.\n",
      "  \"10 in version 0.20 to 100 in 0.22.\", FutureWarning)\n"
     ]
    },
    {
     "data": {
      "text/plain": [
       "0.9906895271704985"
      ]
     },
     "execution_count": 117,
     "metadata": {},
     "output_type": "execute_result"
    }
   ],
   "source": [
    "modelo5 = RandomForestClassifier()\n",
    "modelo5.fit(X_train,y_train)\n",
    "y_predicted5 = modelo5.predict(X_test)\n",
    "accuracy_score(y_test, y_predicted5)"
   ]
  },
  {
   "cell_type": "code",
   "execution_count": 118,
   "metadata": {},
   "outputs": [
    {
     "data": {
      "text/plain": [
       "0.011621510179361177"
      ]
     },
     "execution_count": 118,
     "metadata": {},
     "output_type": "execute_result"
    }
   ],
   "source": [
    "len([i for i in y_test if i == 1])/len(y_test)"
   ]
  },
  {
   "cell_type": "code",
   "execution_count": null,
   "metadata": {},
   "outputs": [],
   "source": []
  },
  {
   "cell_type": "code",
   "execution_count": 153,
   "metadata": {},
   "outputs": [],
   "source": [
    "model_accuracy = [accuracy_score(y_test_u, y_predicted_u),\n",
    "                  accuracy_score(y_test_u, y_predicted_u2),\n",
    "                  accuracy_score(y_test_u, y_predicted_u3),\n",
    "                  accuracy_score(y_test_u, y_predicted_u4),\n",
    "                  accuracy_score(y_test_u, y_predicted_u5),\n",
    "                  0.9]\n",
    "modela_accuracy = [accuracy_score(y_test_ua, y_predicted_ua),\n",
    "                  accuracy_score(y_test_ua, y_predicted_ua2),\n",
    "                  accuracy_score(y_test_ua, y_predicted_ua3),\n",
    "                  accuracy_score(y_test_ua, y_predicted_ua4),\n",
    "                  accuracy_score(y_test_ua, y_predicted_ua5),\n",
    "                  0.75]\n",
    "modelb_accuracy = [accuracy_score(y_test_ub, y_predicted_ub),\n",
    "                  accuracy_score(y_test_ub, y_predicted_ub2),\n",
    "                  accuracy_score(y_test_ub, y_predicted_ub3),\n",
    "                  accuracy_score(y_test_ub, y_predicted_ub4),\n",
    "                  accuracy_score(y_test_ub, y_predicted_ub5),\n",
    "                  0.5]\n",
    "modelo_accuracy = [accuracy_score(y_test, y_predicted),\n",
    "                  accuracy_score(y_test, y_predicted2),\n",
    "                  accuracy_score(y_test, y_predicted_uo3),\n",
    "                  accuracy_score(y_test, y_predicted_uo4),\n",
    "                  accuracy_score(y_test, y_predicted5),\n",
    "                  len([i for i in y_test if i == 0])/len(y_test)]"
   ]
  },
  {
   "cell_type": "code",
   "execution_count": 154,
   "metadata": {},
   "outputs": [],
   "source": [
    "accuracy = pd.DataFrame([model_accuracy,modela_accuracy,modelb_accuracy,modelo_accuracy]).T"
   ]
  },
  {
   "cell_type": "code",
   "execution_count": 155,
   "metadata": {},
   "outputs": [],
   "source": [
    "accuracy.columns = ['10% delinquency', '25% delinquency', '50% delinquency', 'original data']\n",
    "accuracy.index = ['logistic','knn','decision tree','naive bayes', 'random forest','benchmark']"
   ]
  },
  {
   "cell_type": "code",
   "execution_count": 156,
   "metadata": {},
   "outputs": [
    {
     "data": {
      "text/html": [
       "<div>\n",
       "<style scoped>\n",
       "    .dataframe tbody tr th:only-of-type {\n",
       "        vertical-align: middle;\n",
       "    }\n",
       "\n",
       "    .dataframe tbody tr th {\n",
       "        vertical-align: top;\n",
       "    }\n",
       "\n",
       "    .dataframe thead th {\n",
       "        text-align: right;\n",
       "    }\n",
       "</style>\n",
       "<table border=\"1\" class=\"dataframe\">\n",
       "  <thead>\n",
       "    <tr style=\"text-align: right;\">\n",
       "      <th></th>\n",
       "      <th>10% delinquency</th>\n",
       "      <th>25% delinquency</th>\n",
       "      <th>50% delinquency</th>\n",
       "      <th>original data</th>\n",
       "    </tr>\n",
       "  </thead>\n",
       "  <tbody>\n",
       "    <tr>\n",
       "      <th>logistic</th>\n",
       "      <td>0.900075</td>\n",
       "      <td>0.750188</td>\n",
       "      <td>0.500376</td>\n",
       "      <td>0.988387</td>\n",
       "    </tr>\n",
       "    <tr>\n",
       "      <th>knn</th>\n",
       "      <td>0.817492</td>\n",
       "      <td>0.692864</td>\n",
       "      <td>0.647319</td>\n",
       "      <td>0.954173</td>\n",
       "    </tr>\n",
       "    <tr>\n",
       "      <th>decision tree</th>\n",
       "      <td>0.878185</td>\n",
       "      <td>0.689657</td>\n",
       "      <td>0.576093</td>\n",
       "      <td>0.988068</td>\n",
       "    </tr>\n",
       "    <tr>\n",
       "      <th>naive bayes</th>\n",
       "      <td>0.880915</td>\n",
       "      <td>0.762166</td>\n",
       "      <td>0.694059</td>\n",
       "      <td>0.987998</td>\n",
       "    </tr>\n",
       "    <tr>\n",
       "      <th>random forest</th>\n",
       "      <td>0.916333</td>\n",
       "      <td>0.799438</td>\n",
       "      <td>0.707109</td>\n",
       "      <td>0.990690</td>\n",
       "    </tr>\n",
       "    <tr>\n",
       "      <th>benchmark</th>\n",
       "      <td>0.900000</td>\n",
       "      <td>0.750000</td>\n",
       "      <td>0.500000</td>\n",
       "      <td>0.988378</td>\n",
       "    </tr>\n",
       "  </tbody>\n",
       "</table>\n",
       "</div>"
      ],
      "text/plain": [
       "               10% delinquency  25% delinquency  50% delinquency  \\\n",
       "logistic              0.900075         0.750188         0.500376   \n",
       "knn                   0.817492         0.692864         0.647319   \n",
       "decision tree         0.878185         0.689657         0.576093   \n",
       "naive bayes           0.880915         0.762166         0.694059   \n",
       "random forest         0.916333         0.799438         0.707109   \n",
       "benchmark             0.900000         0.750000         0.500000   \n",
       "\n",
       "               original data  \n",
       "logistic            0.988387  \n",
       "knn                 0.954173  \n",
       "decision tree       0.988068  \n",
       "naive bayes         0.987998  \n",
       "random forest       0.990690  \n",
       "benchmark           0.988378  "
      ]
     },
     "execution_count": 156,
     "metadata": {},
     "output_type": "execute_result"
    }
   ],
   "source": [
    "accuracy"
   ]
  },
  {
   "cell_type": "code",
   "execution_count": 157,
   "metadata": {},
   "outputs": [],
   "source": [
    "model_recall = [recall_score(y_test_u, y_predicted_u),\n",
    "                  recall_score(y_test_u, y_predicted_u2),\n",
    "                  recall_score(y_test_u, y_predicted_u3),\n",
    "                  recall_score(y_test_u, y_predicted_u4),\n",
    "                  recall_score(y_test_u, y_predicted_u5),\n",
    "                  1]\n",
    "modela_recall = [recall_score(y_test_ua, y_predicted_ua),\n",
    "                  recall_score(y_test_ua, y_predicted_ua2),\n",
    "                  recall_score(y_test_ua, y_predicted_ua3),\n",
    "                  recall_score(y_test_ua, y_predicted_ua4),\n",
    "                  recall_score(y_test_ua, y_predicted_ua5),\n",
    "                  1]\n",
    "modelb_recall = [recall_score(y_test_ub, y_predicted_ub),\n",
    "                  recall_score(y_test_ub, y_predicted_ub2),\n",
    "                  recall_score(y_test_ub, y_predicted_ub3),\n",
    "                  recall_score(y_test_ub, y_predicted_ub4),\n",
    "                  recall_score(y_test_ub, y_predicted_ub5),\n",
    "                  1]\n",
    "modelo_recall = [recall_score(y_test, y_predicted),\n",
    "                  recall_score(y_test, y_predicted2),\n",
    "                  recall_score(y_test, y_predicted_uo3),\n",
    "                  recall_score(y_test, y_predicted_uo4),\n",
    "                  recall_score(y_test, y_predicted5),\n",
    "                  1]"
   ]
  },
  {
   "cell_type": "code",
   "execution_count": 159,
   "metadata": {},
   "outputs": [],
   "source": [
    "recall = pd.DataFrame([model_recall,modela_recall,modelb_recall,modelo_recall]).T\n",
    "recall.columns = ['10% delinquency', '25% delinquency', '50% delinquency', 'original data']\n",
    "recall.index = ['logistic','knn','decision tree','naive bayes', 'random forest','benchmark']"
   ]
  },
  {
   "cell_type": "code",
   "execution_count": 160,
   "metadata": {},
   "outputs": [
    {
     "data": {
      "text/html": [
       "<div>\n",
       "<style scoped>\n",
       "    .dataframe tbody tr th:only-of-type {\n",
       "        vertical-align: middle;\n",
       "    }\n",
       "\n",
       "    .dataframe tbody tr th {\n",
       "        vertical-align: top;\n",
       "    }\n",
       "\n",
       "    .dataframe thead th {\n",
       "        text-align: right;\n",
       "    }\n",
       "</style>\n",
       "<table border=\"1\" class=\"dataframe\">\n",
       "  <thead>\n",
       "    <tr style=\"text-align: right;\">\n",
       "      <th></th>\n",
       "      <th>10% delinquency</th>\n",
       "      <th>25% delinquency</th>\n",
       "      <th>50% delinquency</th>\n",
       "      <th>original data</th>\n",
       "    </tr>\n",
       "  </thead>\n",
       "  <tbody>\n",
       "    <tr>\n",
       "      <th>logistic</th>\n",
       "      <td>0.000752</td>\n",
       "      <td>0.000752</td>\n",
       "      <td>0.000752</td>\n",
       "      <td>0.000752</td>\n",
       "    </tr>\n",
       "    <tr>\n",
       "      <th>knn</th>\n",
       "      <td>0.423907</td>\n",
       "      <td>0.526234</td>\n",
       "      <td>0.683817</td>\n",
       "      <td>0.272385</td>\n",
       "    </tr>\n",
       "    <tr>\n",
       "      <th>decision tree</th>\n",
       "      <td>0.097328</td>\n",
       "      <td>0.338524</td>\n",
       "      <td>0.700805</td>\n",
       "      <td>0.010396</td>\n",
       "    </tr>\n",
       "    <tr>\n",
       "      <th>naive bayes</th>\n",
       "      <td>0.241948</td>\n",
       "      <td>0.480800</td>\n",
       "      <td>0.703990</td>\n",
       "      <td>0.003760</td>\n",
       "    </tr>\n",
       "    <tr>\n",
       "      <th>random forest</th>\n",
       "      <td>0.233720</td>\n",
       "      <td>0.384932</td>\n",
       "      <td>0.654265</td>\n",
       "      <td>0.201734</td>\n",
       "    </tr>\n",
       "    <tr>\n",
       "      <th>benchmark</th>\n",
       "      <td>1.000000</td>\n",
       "      <td>1.000000</td>\n",
       "      <td>1.000000</td>\n",
       "      <td>1.000000</td>\n",
       "    </tr>\n",
       "  </tbody>\n",
       "</table>\n",
       "</div>"
      ],
      "text/plain": [
       "               10% delinquency  25% delinquency  50% delinquency  \\\n",
       "logistic              0.000752         0.000752         0.000752   \n",
       "knn                   0.423907         0.526234         0.683817   \n",
       "decision tree         0.097328         0.338524         0.700805   \n",
       "naive bayes           0.241948         0.480800         0.703990   \n",
       "random forest         0.233720         0.384932         0.654265   \n",
       "benchmark             1.000000         1.000000         1.000000   \n",
       "\n",
       "               original data  \n",
       "logistic            0.000752  \n",
       "knn                 0.272385  \n",
       "decision tree       0.010396  \n",
       "naive bayes         0.003760  \n",
       "random forest       0.201734  \n",
       "benchmark           1.000000  "
      ]
     },
     "execution_count": 160,
     "metadata": {},
     "output_type": "execute_result"
    }
   ],
   "source": [
    "recall"
   ]
  },
  {
   "cell_type": "code",
   "execution_count": 163,
   "metadata": {},
   "outputs": [
    {
     "data": {
      "text/plain": [
       "CSCORE_B                                  0.175657\n",
       "modified                                  0.101731\n",
       "LOAN_AGE                                  0.065814\n",
       "mltv                                      0.062196\n",
       "hpi_factor                                0.051122\n",
       "DTI                                       0.049316\n",
       "original_housing_value                    0.048117\n",
       "loan_size                                 0.047568\n",
       "LAST_UPB                                  0.046989\n",
       "ORIG_AMT                                  0.045401\n",
       "LAST_RT                                   0.045056\n",
       "Average_same_state_upb                    0.043016\n",
       "slope1                                    0.036640\n",
       "ORIG_RT                                   0.036304\n",
       "slope                                     0.036215\n",
       "OLTV                                      0.033518\n",
       "NUM_BO                                    0.028659\n",
       "property_type_single_family               0.006349\n",
       "property_type_planed_urban_development    0.005535\n",
       "loan_purpose_purchase                     0.005386\n",
       "loan_purpose_cash_out_refinance           0.004646\n",
       "first_home_buyer                          0.004619\n",
       "loan_purpose_no_cash_out_refinance        0.004461\n",
       "occupancy_status_principal                0.004001\n",
       "property_type_condo                       0.003992\n",
       "occupancy_status_investor                 0.002976\n",
       "occupancy_status_second                   0.001909\n",
       "NUM_UNIT                                  0.001744\n",
       "property_type_manufactured_housing        0.000659\n",
       "property_type_coop                        0.000404\n",
       "dtype: float64"
      ]
     },
     "execution_count": 163,
     "metadata": {},
     "output_type": "execute_result"
    }
   ],
   "source": [
    "c = X_train.columns\n",
    "fib5 = modelb5.feature_importances_\n",
    "importanceb5 = pd.Series(fib5,index = c).sort_values(ascending = False)\n",
    "importanceb5"
   ]
  },
  {
   "cell_type": "code",
   "execution_count": 164,
   "metadata": {},
   "outputs": [
    {
     "data": {
      "text/plain": [
       "modified                                  0.149986\n",
       "CSCORE_B                                  0.142805\n",
       "LOAN_AGE                                  0.061035\n",
       "mltv                                      0.059988\n",
       "hpi_factor                                0.053095\n",
       "loan_size                                 0.050572\n",
       "original_housing_value                    0.049480\n",
       "LAST_UPB                                  0.048439\n",
       "DTI                                       0.047043\n",
       "ORIG_RT                                   0.045911\n",
       "ORIG_AMT                                  0.044689\n",
       "Average_same_state_upb                    0.041958\n",
       "slope                                     0.036347\n",
       "slope1                                    0.035981\n",
       "OLTV                                      0.034078\n",
       "LAST_RT                                   0.031132\n",
       "NUM_BO                                    0.019593\n",
       "loan_purpose_no_cash_out_refinance        0.006389\n",
       "property_type_single_family               0.006135\n",
       "property_type_planed_urban_development    0.005491\n",
       "occupancy_status_principal                0.004982\n",
       "first_home_buyer                          0.004971\n",
       "loan_purpose_purchase                     0.004590\n",
       "loan_purpose_cash_out_refinance           0.004508\n",
       "property_type_condo                       0.003616\n",
       "occupancy_status_investor                 0.002522\n",
       "NUM_UNIT                                  0.001781\n",
       "occupancy_status_second                   0.001662\n",
       "property_type_manufactured_housing        0.000763\n",
       "property_type_coop                        0.000459\n",
       "dtype: float64"
      ]
     },
     "execution_count": 164,
     "metadata": {},
     "output_type": "execute_result"
    }
   ],
   "source": [
    "fia5 = modela5.feature_importances_\n",
    "importancea5 = pd.Series(fia5,index = c).sort_values(ascending = False)\n",
    "importancea5"
   ]
  },
  {
   "cell_type": "code",
   "execution_count": 165,
   "metadata": {},
   "outputs": [
    {
     "data": {
      "text/plain": [
       "modified                                  0.212431\n",
       "mltv                                      0.075199\n",
       "LAST_UPB                                  0.067450\n",
       "CSCORE_B                                  0.066943\n",
       "hpi_factor                                0.065938\n",
       "loan_size                                 0.063576\n",
       "original_housing_value                    0.058802\n",
       "ORIG_AMT                                  0.052127\n",
       "LOAN_AGE                                  0.047793\n",
       "Average_same_state_upb                    0.044232\n",
       "DTI                                       0.042375\n",
       "slope                                     0.035275\n",
       "slope1                                    0.034849\n",
       "OLTV                                      0.032683\n",
       "LAST_RT                                   0.027008\n",
       "ORIG_RT                                   0.026767\n",
       "property_type_single_family               0.006376\n",
       "property_type_planed_urban_development    0.005968\n",
       "first_home_buyer                          0.005277\n",
       "loan_purpose_purchase                     0.004023\n",
       "loan_purpose_no_cash_out_refinance        0.003934\n",
       "property_type_condo                       0.003784\n",
       "loan_purpose_cash_out_refinance           0.003642\n",
       "NUM_BO                                    0.003582\n",
       "occupancy_status_principal                0.002753\n",
       "NUM_UNIT                                  0.002016\n",
       "occupancy_status_second                   0.001847\n",
       "occupancy_status_investor                 0.001839\n",
       "property_type_manufactured_housing        0.001045\n",
       "property_type_coop                        0.000464\n",
       "dtype: float64"
      ]
     },
     "execution_count": 165,
     "metadata": {},
     "output_type": "execute_result"
    }
   ],
   "source": [
    "fio5 = modelo5.feature_importances_\n",
    "importanceo5 = pd.Series(fio5,index = c).sort_values(ascending = False)\n",
    "importanceo5"
   ]
  },
  {
   "cell_type": "code",
   "execution_count": null,
   "metadata": {},
   "outputs": [],
   "source": []
  }
 ],
 "metadata": {
  "kernelspec": {
   "display_name": "Python 3",
   "language": "python",
   "name": "python3"
  },
  "language_info": {
   "codemirror_mode": {
    "name": "ipython",
    "version": 3
   },
   "file_extension": ".py",
   "mimetype": "text/x-python",
   "name": "python",
   "nbconvert_exporter": "python",
   "pygments_lexer": "ipython3",
   "version": "3.7.3"
  }
 },
 "nbformat": 4,
 "nbformat_minor": 2
}
