{
 "cells": [
  {
   "cell_type": "code",
   "execution_count": 1,
   "metadata": {},
   "outputs": [],
   "source": [
    "import numpy as np\n",
    "import pandas as pd"
   ]
  },
  {
   "cell_type": "code",
   "execution_count": 2,
   "metadata": {},
   "outputs": [
    {
     "name": "stderr",
     "output_type": "stream",
     "text": [
      "Using TensorFlow backend.\n"
     ]
    }
   ],
   "source": [
    "from imblearn.under_sampling import RandomUnderSampler"
   ]
  },
  {
   "cell_type": "code",
   "execution_count": 3,
   "metadata": {},
   "outputs": [],
   "source": [
    "from sklearn.metrics import accuracy_score\n",
    "from sklearn.metrics import precision_score\n",
    "from sklearn.metrics import recall_score\n",
    "from sklearn.metrics import roc_auc_score"
   ]
  },
  {
   "cell_type": "code",
   "execution_count": 4,
   "metadata": {},
   "outputs": [],
   "source": [
    "from sklearn.dummy import DummyRegressor\n",
    "from sklearn.linear_model import LogisticRegression\n",
    "from sklearn.tree import DecisionTreeClassifier\n",
    "from sklearn.neighbors import KNeighborsClassifier\n",
    "from sklearn.metrics import accuracy_score\n",
    "from sklearn.metrics import precision_score\n",
    "from sklearn.metrics import recall_score\n",
    "from sklearn.metrics import roc_auc_score\n",
    "from sklearn.ensemble import RandomForestClassifier\n",
    "from sklearn.svm import SVC\n",
    "from sklearn.naive_bayes import GaussianNB"
   ]
  },
  {
   "cell_type": "code",
   "execution_count": 5,
   "metadata": {},
   "outputs": [
    {
     "name": "stderr",
     "output_type": "stream",
     "text": [
      "/anaconda3/lib/python3.7/site-packages/numpy/lib/arraysetops.py:569: FutureWarning: elementwise comparison failed; returning scalar instead, but in the future will perform elementwise comparison\n",
      "  mask |= (ar1 == a)\n"
     ]
    }
   ],
   "source": [
    "df_2011 = pd.read_csv('2011_model_data.csv', index_col = 0)\n",
    "df_2012 = pd.read_csv('2012_model_data.csv', index_col = 0)\n",
    "df_2013 = pd.read_csv('2013_model_data.csv', index_col = 0)\n",
    "df_2014 = pd.read_csv('2014_model_data.csv', index_col = 0)\n",
    "df_2015 = pd.read_csv('2015_model_data.csv', index_col = 0)"
   ]
  },
  {
   "cell_type": "code",
   "execution_count": 6,
   "metadata": {},
   "outputs": [],
   "source": [
    "df_train = pd.concat([df_2011,df_2012,df_2013,df_2014])\n",
    "df_test = df_2015"
   ]
  },
  {
   "cell_type": "code",
   "execution_count": 7,
   "metadata": {},
   "outputs": [],
   "source": [
    "def run(df_train,df_test,dependent):\n",
    "    X_train = df_train[['LAST_RT', 'LAST_UPB', 'ORIG_RT', 'ORIG_AMT', 'OLTV',\n",
    "       'NUM_BO', 'DTI', 'CSCORE_B', 'NUM_UNIT', 'first_home_buyer',\n",
    "       'loan_purpose_purchase', 'loan_purpose_no_cash_out_refinance',\n",
    "       'loan_purpose_cash_out_refinance', 'property_type_single_family',\n",
    "       'property_type_condo', 'property_type_coop',\n",
    "       'property_type_manufactured_housing',\n",
    "       'property_type_planed_urban_development', 'occupancy_status_principal',\n",
    "       'occupancy_status_second', 'occupancy_status_investor',\n",
    "       'original_housing_value', 'Average_same_state_upb', 'loan_size',\n",
    "       'hpi_factor', 'mltv', 'slope','slope1', 'modified']]\n",
    "    \n",
    "    X_test = df_test[['LAST_RT', 'LAST_UPB', 'ORIG_RT', 'ORIG_AMT', 'OLTV',\n",
    "       'NUM_BO', 'DTI', 'CSCORE_B', 'NUM_UNIT', 'first_home_buyer',\n",
    "       'loan_purpose_purchase', 'loan_purpose_no_cash_out_refinance',\n",
    "       'loan_purpose_cash_out_refinance', 'property_type_single_family',\n",
    "       'property_type_condo', 'property_type_coop',\n",
    "       'property_type_manufactured_housing',\n",
    "       'property_type_planed_urban_development', 'occupancy_status_principal',\n",
    "       'occupancy_status_second', 'occupancy_status_investor',\n",
    "       'original_housing_value', 'Average_same_state_upb', 'loan_size',\n",
    "       'hpi_factor', 'mltv', 'slope', 'slope1', 'modified']]\n",
    "    \n",
    "    y_train = df_train[dependent]\n",
    "    y_test = df_test[dependent]\n",
    "    \n",
    "    rus = RandomUnderSampler(1/9)\n",
    "    X_train_u,y_train_u = rus.fit_resample(X_train,y_train)\n",
    "    X_test_u,y_test_u = rus.fit_resample(X_test,y_test)\n",
    "    model = LogisticRegression()\n",
    "    model.fit(X_train_u,y_train_u)\n",
    "    y_predicted_u  = model.predict(X_test_u)\n",
    "    model2 = DecisionTreeClassifier()\n",
    "    model2.fit(X_train_u,y_train_u)\n",
    "    y_predicted_u2 = model2.predict(X_test_u)\n",
    "    model3 = KNeighborsClassifier()\n",
    "    model3.fit(X_train_u,y_train_u)\n",
    "    y_predicted_u3 = model3.predict(X_test_u)\n",
    "    model4 = GaussianNB()\n",
    "    model4.fit(X_train_u,y_train_u)\n",
    "    y_predicted_u4 = model4.predict(X_test_u)\n",
    "    model5 = RandomForestClassifier()\n",
    "    model5.fit(X_train_u,y_train_u)\n",
    "    y_predicted_u5 = model5.predict(X_test_u)\n",
    "    \n",
    "    rusa = RandomUnderSampler(1/3)\n",
    "    X_train_ua,y_train_ua = rusa.fit_resample(X_train,y_train)\n",
    "    X_test_ua,y_test_ua = rusa.fit_resample(X_test,y_test)\n",
    "    modela = LogisticRegression()\n",
    "    modela.fit(X_train_ua,y_train_ua)\n",
    "    y_predicted_ua  = model.predict(X_test_ua)\n",
    "    modela2 = DecisionTreeClassifier()\n",
    "    modela2.fit(X_train_ua,y_train_ua)\n",
    "    y_predicted_ua2 = modela2.predict(X_test_ua)\n",
    "    modela3 = KNeighborsClassifier()\n",
    "    modela3.fit(X_train_ua,y_train_ua)\n",
    "    y_predicted_ua3 = modela3.predict(X_test_ua)\n",
    "    modela4 = GaussianNB()\n",
    "    modela4.fit(X_train_ua,y_train_ua)\n",
    "    y_predicted_ua4 = modela4.predict(X_test_ua)\n",
    "    modela5 = RandomForestClassifier()\n",
    "    modela5.fit(X_train_ua,y_train_ua)\n",
    "    y_predicted_ua5 = modela5.predict(X_test_ua)\n",
    "    \n",
    "    rusb = RandomUnderSampler(1/1)\n",
    "    X_train_ub,y_train_ub = rusb.fit_resample(X_train,y_train)\n",
    "    X_test_ub,y_test_ub = rusb.fit_resample(X_test,y_test)\n",
    "    modelb = LogisticRegression()\n",
    "    modelb.fit(X_train_ub,y_train_ub)\n",
    "    y_predicted_ub  = model.predict(X_test_ub)\n",
    "    modelb2 = DecisionTreeClassifier()\n",
    "    modelb2.fit(X_train_ub,y_train_ub)\n",
    "    y_predicted_ub2 = modelb2.predict(X_test_ub)\n",
    "    modelb3 = KNeighborsClassifier()\n",
    "    modelb3.fit(X_train_ub,y_train_ub)\n",
    "    y_predicted_ub3 = modelb3.predict(X_test_ub)\n",
    "    modelb4 = GaussianNB()\n",
    "    modelb4.fit(X_train_ub,y_train_ub)\n",
    "    y_predicted_ub4 = modelb4.predict(X_test_ub)\n",
    "    modelb5 = RandomForestClassifier()\n",
    "    modelb5.fit(X_train_ub,y_train_ub)\n",
    "    y_predicted_ub5 = modelb5.predict(X_test_ub)\n",
    "\n",
    "    modelo = LogisticRegression()\n",
    "    modelo.fit(X_train,y_train)\n",
    "    y_predicted  = model.predict(X_test)\n",
    "    modelo2 = DecisionTreeClassifier()\n",
    "    modelo2.fit(X_train,y_train)\n",
    "    y_predicted2 = modelo2.predict(X_test)\n",
    "    modelo3 = KNeighborsClassifier()\n",
    "    modelo3.fit(X_train,y_train)\n",
    "    y_predicted_uo3 = modelo3.predict(X_test)\n",
    "    modelo4 = GaussianNB()\n",
    "    modelo4.fit(X_train,y_train)\n",
    "    y_predicted_uo4 = modelo4.predict(X_test)\n",
    "    modelo5 = RandomForestClassifier()\n",
    "    modelo5.fit(X_train,y_train)\n",
    "    y_predicted5 = modelo5.predict(X_test)\n",
    "    \n",
    "    model_accuracy = [accuracy_score(y_test_u, y_predicted_u),\n",
    "                      accuracy_score(y_test_u, y_predicted_u2),\n",
    "                      accuracy_score(y_test_u, y_predicted_u3),\n",
    "                      accuracy_score(y_test_u, y_predicted_u4),\n",
    "                      accuracy_score(y_test_u, y_predicted_u5),\n",
    "                      0.9]\n",
    "    modela_accuracy = [accuracy_score(y_test_ua, y_predicted_ua),\n",
    "                      accuracy_score(y_test_ua, y_predicted_ua2),\n",
    "                      accuracy_score(y_test_ua, y_predicted_ua3),\n",
    "                      accuracy_score(y_test_ua, y_predicted_ua4),\n",
    "                      accuracy_score(y_test_ua, y_predicted_ua5),\n",
    "                      0.75]\n",
    "    modelb_accuracy = [accuracy_score(y_test_ub, y_predicted_ub),\n",
    "                      accuracy_score(y_test_ub, y_predicted_ub2),\n",
    "                      accuracy_score(y_test_ub, y_predicted_ub3),\n",
    "                      accuracy_score(y_test_ub, y_predicted_ub4),\n",
    "                      accuracy_score(y_test_ub, y_predicted_ub5),\n",
    "                      0.5]\n",
    "    modelo_accuracy = [accuracy_score(y_test, y_predicted),\n",
    "                      accuracy_score(y_test, y_predicted2),\n",
    "                      accuracy_score(y_test, y_predicted_uo3),\n",
    "                      accuracy_score(y_test, y_predicted_uo4),\n",
    "                      accuracy_score(y_test, y_predicted5),\n",
    "                      len([i for i in y_test if i == 0])/len(y_test)]\n",
    "    accuracy = pd.DataFrame([model_accuracy,modela_accuracy,modelb_accuracy,modelo_accuracy]).T\n",
    "    accuracy.columns = ['10% delinquency', '25% delinquency', '50% delinquency', 'original data']\n",
    "    accuracy.index = ['logistic','knn','decision tree','naive bayes', 'random forest','benchmark']\n",
    "    \n",
    "    model_recall = [recall_score(y_test_u, y_predicted_u),\n",
    "                      recall_score(y_test_u, y_predicted_u2),\n",
    "                      recall_score(y_test_u, y_predicted_u3),\n",
    "                      recall_score(y_test_u, y_predicted_u4),\n",
    "                      recall_score(y_test_u, y_predicted_u5),\n",
    "                      1]\n",
    "    modela_recall = [recall_score(y_test_ua, y_predicted_ua),\n",
    "                      recall_score(y_test_ua, y_predicted_ua2),\n",
    "                      recall_score(y_test_ua, y_predicted_ua3),\n",
    "                      recall_score(y_test_ua, y_predicted_ua4),\n",
    "                      recall_score(y_test_ua, y_predicted_ua5),\n",
    "                      1]\n",
    "    modelb_recall = [recall_score(y_test_ub, y_predicted_ub),\n",
    "                      recall_score(y_test_ub, y_predicted_ub2),\n",
    "                      recall_score(y_test_ub, y_predicted_ub3),\n",
    "                      recall_score(y_test_ub, y_predicted_ub4),\n",
    "                      recall_score(y_test_ub, y_predicted_ub5),\n",
    "                      1]\n",
    "    modelo_recall = [recall_score(y_test, y_predicted),\n",
    "                      recall_score(y_test, y_predicted2),\n",
    "                      recall_score(y_test, y_predicted_uo3),\n",
    "                      recall_score(y_test, y_predicted_uo4),\n",
    "                      recall_score(y_test, y_predicted5),\n",
    "                      1]\n",
    "    \n",
    "    recall = pd.DataFrame([model_recall,modela_recall,modelb_recall,modelo_recall]).T\n",
    "    recall.columns = ['10% delinquency', '25% delinquency', '50% delinquency', 'original data']\n",
    "    recall.index = ['logistic','knn','decision tree','naive bayes', 'random forest','benchmark']\n",
    "    \n",
    "    model_roc_auc = [roc_auc_score(y_test_u, y_predicted_u),\n",
    "                      roc_auc_score(y_test_u, y_predicted_u2),\n",
    "                      roc_auc_score(y_test_u, y_predicted_u3),\n",
    "                      roc_auc_score(y_test_u, y_predicted_u4),\n",
    "                      roc_auc_score(y_test_u, y_predicted_u5),\n",
    "                      1]\n",
    "    modela_roc_auc = [roc_auc_score(y_test_ua, y_predicted_ua),\n",
    "                      roc_auc_score(y_test_ua, y_predicted_ua2),\n",
    "                      roc_auc_score(y_test_ua, y_predicted_ua3),\n",
    "                      roc_auc_score(y_test_ua, y_predicted_ua4),\n",
    "                      roc_auc_score(y_test_ua, y_predicted_ua5),\n",
    "                      1]\n",
    "    modelb_roc_auc = [roc_auc_score(y_test_ub, y_predicted_ub),\n",
    "                      roc_auc_score(y_test_ub, y_predicted_ub2),\n",
    "                      roc_auc_score(y_test_ub, y_predicted_ub3),\n",
    "                      roc_auc_score(y_test_ub, y_predicted_ub4),\n",
    "                      roc_auc_score(y_test_ub, y_predicted_ub5),\n",
    "                      1]\n",
    "    modelo_roc_auc = [roc_auc_score(y_test, y_predicted),\n",
    "                      roc_auc_score(y_test, y_predicted2),\n",
    "                      roc_auc_score(y_test, y_predicted_uo3),\n",
    "                      roc_auc_score(y_test, y_predicted_uo4),\n",
    "                      roc_auc_score(y_test, y_predicted5),\n",
    "                      1]\n",
    "\n",
    "    roc_auc = pd.DataFrame([model_roc_auc,modela_roc_auc,modelb_roc_auc,modelo_roc_auc]).T\n",
    "    roc_auc.columns = ['10% delinquency', '25% delinquency', '50% delinquency', 'original data']\n",
    "    roc_auc.index = ['logistic','knn','decision tree','naive bayes', 'random forest','benchmark']\n",
    "\n",
    "\n",
    "    c = X_train.columns\n",
    "    fib5 = modelb5.feature_importances_\n",
    "    importance50 = pd.Series(fib5,index = c).sort_values(ascending = False)\n",
    "    \n",
    "    fia5 = modela5.feature_importances_\n",
    "    importance75 = pd.Series(fia5,index = c).sort_values(ascending = False)\n",
    "    \n",
    "    fi5 = model5.feature_importances_\n",
    "    importance90 = pd.Series(fi5,index = c).sort_values(ascending = False)\n",
    "    \n",
    "    fio5 = modelo5.feature_importances_\n",
    "    importanceo = pd.Series(fio5,index = c).sort_values(ascending = False)\n",
    "    \n",
    "    return (accuracy,recall,roc_auc,importance50,importance75,importance90,importanceo)\n",
    "    \n",
    "    \n",
    "    "
   ]
  },
  {
   "cell_type": "code",
   "execution_count": 8,
   "metadata": {},
   "outputs": [
    {
     "name": "stderr",
     "output_type": "stream",
     "text": [
      "/anaconda3/lib/python3.7/site-packages/sklearn/linear_model/logistic.py:433: FutureWarning: Default solver will be changed to 'lbfgs' in 0.22. Specify a solver to silence this warning.\n",
      "  FutureWarning)\n",
      "/anaconda3/lib/python3.7/site-packages/sklearn/ensemble/forest.py:246: FutureWarning: The default value of n_estimators will change from 10 in version 0.20 to 100 in 0.22.\n",
      "  \"10 in version 0.20 to 100 in 0.22.\", FutureWarning)\n",
      "/anaconda3/lib/python3.7/site-packages/sklearn/linear_model/logistic.py:433: FutureWarning: Default solver will be changed to 'lbfgs' in 0.22. Specify a solver to silence this warning.\n",
      "  FutureWarning)\n",
      "/anaconda3/lib/python3.7/site-packages/sklearn/ensemble/forest.py:246: FutureWarning: The default value of n_estimators will change from 10 in version 0.20 to 100 in 0.22.\n",
      "  \"10 in version 0.20 to 100 in 0.22.\", FutureWarning)\n",
      "/anaconda3/lib/python3.7/site-packages/sklearn/linear_model/logistic.py:433: FutureWarning: Default solver will be changed to 'lbfgs' in 0.22. Specify a solver to silence this warning.\n",
      "  FutureWarning)\n",
      "/anaconda3/lib/python3.7/site-packages/sklearn/ensemble/forest.py:246: FutureWarning: The default value of n_estimators will change from 10 in version 0.20 to 100 in 0.22.\n",
      "  \"10 in version 0.20 to 100 in 0.22.\", FutureWarning)\n",
      "/anaconda3/lib/python3.7/site-packages/sklearn/linear_model/logistic.py:433: FutureWarning: Default solver will be changed to 'lbfgs' in 0.22. Specify a solver to silence this warning.\n",
      "  FutureWarning)\n",
      "/anaconda3/lib/python3.7/site-packages/sklearn/ensemble/forest.py:246: FutureWarning: The default value of n_estimators will change from 10 in version 0.20 to 100 in 0.22.\n",
      "  \"10 in version 0.20 to 100 in 0.22.\", FutureWarning)\n"
     ]
    }
   ],
   "source": [
    "delinq60_result = run(df_train,df_test,'60_days_delinq')"
   ]
  },
  {
   "cell_type": "code",
   "execution_count": 9,
   "metadata": {},
   "outputs": [
    {
     "name": "stderr",
     "output_type": "stream",
     "text": [
      "/anaconda3/lib/python3.7/site-packages/sklearn/linear_model/logistic.py:433: FutureWarning: Default solver will be changed to 'lbfgs' in 0.22. Specify a solver to silence this warning.\n",
      "  FutureWarning)\n",
      "/anaconda3/lib/python3.7/site-packages/sklearn/ensemble/forest.py:246: FutureWarning: The default value of n_estimators will change from 10 in version 0.20 to 100 in 0.22.\n",
      "  \"10 in version 0.20 to 100 in 0.22.\", FutureWarning)\n",
      "/anaconda3/lib/python3.7/site-packages/sklearn/linear_model/logistic.py:433: FutureWarning: Default solver will be changed to 'lbfgs' in 0.22. Specify a solver to silence this warning.\n",
      "  FutureWarning)\n",
      "/anaconda3/lib/python3.7/site-packages/sklearn/ensemble/forest.py:246: FutureWarning: The default value of n_estimators will change from 10 in version 0.20 to 100 in 0.22.\n",
      "  \"10 in version 0.20 to 100 in 0.22.\", FutureWarning)\n",
      "/anaconda3/lib/python3.7/site-packages/sklearn/linear_model/logistic.py:433: FutureWarning: Default solver will be changed to 'lbfgs' in 0.22. Specify a solver to silence this warning.\n",
      "  FutureWarning)\n",
      "/anaconda3/lib/python3.7/site-packages/sklearn/ensemble/forest.py:246: FutureWarning: The default value of n_estimators will change from 10 in version 0.20 to 100 in 0.22.\n",
      "  \"10 in version 0.20 to 100 in 0.22.\", FutureWarning)\n",
      "/anaconda3/lib/python3.7/site-packages/sklearn/linear_model/logistic.py:433: FutureWarning: Default solver will be changed to 'lbfgs' in 0.22. Specify a solver to silence this warning.\n",
      "  FutureWarning)\n",
      "/anaconda3/lib/python3.7/site-packages/sklearn/ensemble/forest.py:246: FutureWarning: The default value of n_estimators will change from 10 in version 0.20 to 100 in 0.22.\n",
      "  \"10 in version 0.20 to 100 in 0.22.\", FutureWarning)\n"
     ]
    }
   ],
   "source": [
    "delinq90_result = run(df_train,df_test,'90_days_delinq')"
   ]
  },
  {
   "cell_type": "code",
   "execution_count": 10,
   "metadata": {},
   "outputs": [],
   "source": [
    "# default_result = run(df_train,df_test,'default')"
   ]
  },
  {
   "cell_type": "code",
   "execution_count": 14,
   "metadata": {
    "scrolled": true
   },
   "outputs": [
    {
     "data": {
      "text/plain": [
       "CSCORE_B                                  0.160920\n",
       "modified                                  0.151948\n",
       "mltv                                      0.089836\n",
       "DTI                                       0.066347\n",
       "NUM_BO                                    0.049324\n",
       "original_housing_value                    0.049240\n",
       "ORIG_RT                                   0.047142\n",
       "LAST_UPB                                  0.044429\n",
       "hpi_factor                                0.042587\n",
       "loan_size                                 0.042214\n",
       "ORIG_AMT                                  0.040923\n",
       "Average_same_state_upb                    0.037493\n",
       "slope                                     0.036148\n",
       "OLTV                                      0.031658\n",
       "slope1                                    0.030861\n",
       "LAST_RT                                   0.029828\n",
       "loan_purpose_no_cash_out_refinance        0.006757\n",
       "loan_purpose_cash_out_refinance           0.006355\n",
       "property_type_single_family               0.005734\n",
       "loan_purpose_purchase                     0.005547\n",
       "occupancy_status_principal                0.004825\n",
       "property_type_planed_urban_development    0.004723\n",
       "first_home_buyer                          0.004382\n",
       "property_type_condo                       0.003418\n",
       "occupancy_status_investor                 0.002863\n",
       "occupancy_status_second                   0.002011\n",
       "NUM_UNIT                                  0.001532\n",
       "property_type_manufactured_housing        0.000595\n",
       "property_type_coop                        0.000359\n",
       "dtype: float64"
      ]
     },
     "execution_count": 14,
     "metadata": {},
     "output_type": "execute_result"
    }
   ],
   "source": [
    "delinq90_result[3]"
   ]
  },
  {
   "cell_type": "code",
   "execution_count": null,
   "metadata": {},
   "outputs": [],
   "source": [
    "# lr pretty good job for unbalanced data\n"
   ]
  },
  {
   "cell_type": "code",
   "execution_count": 15,
   "metadata": {
    "scrolled": true
   },
   "outputs": [
    {
     "data": {
      "text/plain": [
       "CSCORE_B                                  0.204657\n",
       "modified                                  0.088589\n",
       "mltv                                      0.074431\n",
       "original_housing_value                    0.057214\n",
       "DTI                                       0.052286\n",
       "LAST_UPB                                  0.050028\n",
       "hpi_factor                                0.049902\n",
       "loan_size                                 0.049462\n",
       "ORIG_AMT                                  0.045489\n",
       "ORIG_RT                                   0.042488\n",
       "slope                                     0.042215\n",
       "Average_same_state_upb                    0.040870\n",
       "LAST_RT                                   0.038118\n",
       "OLTV                                      0.037467\n",
       "NUM_BO                                    0.036981\n",
       "slope1                                    0.035444\n",
       "loan_purpose_no_cash_out_refinance        0.008146\n",
       "property_type_single_family               0.006538\n",
       "property_type_planed_urban_development    0.006081\n",
       "loan_purpose_cash_out_refinance           0.006009\n",
       "loan_purpose_purchase                     0.005657\n",
       "first_home_buyer                          0.004895\n",
       "occupancy_status_principal                0.004104\n",
       "property_type_condo                       0.003900\n",
       "occupancy_status_investor                 0.003235\n",
       "occupancy_status_second                   0.002374\n",
       "NUM_UNIT                                  0.002348\n",
       "property_type_manufactured_housing        0.000655\n",
       "property_type_coop                        0.000414\n",
       "dtype: float64"
      ]
     },
     "execution_count": 15,
     "metadata": {},
     "output_type": "execute_result"
    }
   ],
   "source": [
    "delinq60_result[3]"
   ]
  },
  {
   "cell_type": "code",
   "execution_count": null,
   "metadata": {},
   "outputs": [],
   "source": []
  }
 ],
 "metadata": {
  "kernelspec": {
   "display_name": "Python 3",
   "language": "python",
   "name": "python3"
  },
  "language_info": {
   "codemirror_mode": {
    "name": "ipython",
    "version": 3
   },
   "file_extension": ".py",
   "mimetype": "text/x-python",
   "name": "python",
   "nbconvert_exporter": "python",
   "pygments_lexer": "ipython3",
   "version": "3.7.3"
  }
 },
 "nbformat": 4,
 "nbformat_minor": 2
}
