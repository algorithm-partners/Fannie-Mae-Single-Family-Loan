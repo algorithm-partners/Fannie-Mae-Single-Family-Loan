{
 "cells": [
  {
   "cell_type": "code",
   "execution_count": 131,
   "metadata": {},
   "outputs": [],
   "source": [
    "import numpy as np\n",
    "import pandas as pd\n",
    "from sklearn.dummy import DummyRegressor\n",
    "from sklearn.linear_model import LogisticRegression\n",
    "from sklearn.tree import DecisionTreeClassifier\n",
    "from sklearn.neighbors import KNeighborsClassifier\n",
    "from sklearn.metrics import accuracy_score\n",
    "from sklearn.metrics import precision_score\n",
    "from sklearn.metrics import recall_score\n",
    "from sklearn.metrics import roc_auc_score\n",
    "from sklearn.ensemble import RandomForestClassifier\n",
    "from sklearn.svm import SVC\n",
    "from sklearn.naive_bayes import GaussianNB"
   ]
  },
  {
   "cell_type": "code",
   "execution_count": 2,
   "metadata": {},
   "outputs": [],
   "source": [
    "from sklearn.naive_bayes import GaussianNB"
   ]
  },
  {
   "cell_type": "code",
   "execution_count": 5,
   "metadata": {},
   "outputs": [],
   "source": [
    "df_2005 = pd.read_csv('2005_model_data.csv', index_col = 0)"
   ]
  },
  {
   "cell_type": "code",
   "execution_count": 6,
   "metadata": {},
   "outputs": [],
   "source": [
    "df_2006 = pd.read_csv('2006_model_data.csv', index_col = 0)\n",
    "df_2007 = pd.read_csv('2007_model_data.csv', index_col = 0)\n",
    "df_2008 = pd.read_csv('2008_model_data.csv', index_col = 0)\n",
    "df_2009 = pd.read_csv('2009_model_data.csv', index_col = 0)\n",
    "df_2010 = pd.read_csv('2010_model_data.csv', index_col = 0)\n",
    "df_2011 = pd.read_csv('2011_model_data.csv', index_col = 0)"
   ]
  },
  {
   "cell_type": "code",
   "execution_count": 7,
   "metadata": {},
   "outputs": [
    {
     "data": {
      "text/plain": [
       "0.16216223892480713"
      ]
     },
     "execution_count": 7,
     "metadata": {},
     "output_type": "execute_result"
    }
   ],
   "source": [
    "df_2006['60_days_delinq'].sum()/len(df_2006)"
   ]
  },
  {
   "cell_type": "code",
   "execution_count": 8,
   "metadata": {},
   "outputs": [
    {
     "data": {
      "text/plain": [
       "0.18661823047976564"
      ]
     },
     "execution_count": 8,
     "metadata": {},
     "output_type": "execute_result"
    }
   ],
   "source": [
    "df_2007['60_days_delinq'].sum()/len(df_2007)"
   ]
  },
  {
   "cell_type": "code",
   "execution_count": 9,
   "metadata": {},
   "outputs": [
    {
     "data": {
      "text/plain": [
       "0.1238546835553234"
      ]
     },
     "execution_count": 9,
     "metadata": {},
     "output_type": "execute_result"
    }
   ],
   "source": [
    "df_2008['60_days_delinq'].sum()/len(df_2008)"
   ]
  },
  {
   "cell_type": "code",
   "execution_count": 10,
   "metadata": {},
   "outputs": [
    {
     "data": {
      "text/plain": [
       "0.029963481298341914"
      ]
     },
     "execution_count": 10,
     "metadata": {},
     "output_type": "execute_result"
    }
   ],
   "source": [
    "df_2009['60_days_delinq'].sum()/len(df_2009)"
   ]
  },
  {
   "cell_type": "code",
   "execution_count": 11,
   "metadata": {},
   "outputs": [
    {
     "data": {
      "text/plain": [
       "0.01889354279974818"
      ]
     },
     "execution_count": 11,
     "metadata": {},
     "output_type": "execute_result"
    }
   ],
   "source": [
    "df_2010['60_days_delinq'].sum()/len(df_2010)"
   ]
  },
  {
   "cell_type": "code",
   "execution_count": 12,
   "metadata": {},
   "outputs": [
    {
     "data": {
      "text/plain": [
       "0.01644102350345476"
      ]
     },
     "execution_count": 12,
     "metadata": {},
     "output_type": "execute_result"
    }
   ],
   "source": [
    "df_2011['60_days_delinq'].sum()/len(df_2011)"
   ]
  },
  {
   "cell_type": "code",
   "execution_count": 13,
   "metadata": {},
   "outputs": [],
   "source": [
    "df_train = pd.concat([df_2005,df_2006,df_2007])"
   ]
  },
  {
   "cell_type": "code",
   "execution_count": 14,
   "metadata": {},
   "outputs": [
    {
     "data": {
      "text/plain": [
       "0.1580933709171625"
      ]
     },
     "execution_count": 14,
     "metadata": {},
     "output_type": "execute_result"
    }
   ],
   "source": [
    "df_train['60_days_delinq'].sum()/len(df_train)"
   ]
  },
  {
   "cell_type": "code",
   "execution_count": 15,
   "metadata": {},
   "outputs": [],
   "source": [
    "df_test = df_2008"
   ]
  },
  {
   "cell_type": "code",
   "execution_count": 16,
   "metadata": {},
   "outputs": [],
   "source": [
    "# 2 vs 1"
   ]
  },
  {
   "cell_type": "code",
   "execution_count": 17,
   "metadata": {},
   "outputs": [
    {
     "data": {
      "text/plain": [
       "Index(['LOAN_ID', '60_days_delinq', '90_days_delinq', 'default', 'prepay',\n",
       "       'LAST_RT', 'LAST_UPB', 'LOAN_AGE', 'ORIG_RT', 'ORIG_AMT', 'OLTV',\n",
       "       'NUM_BO', 'DTI', 'CSCORE_B', 'NUM_UNIT', 'first_home_buyer',\n",
       "       'loan_purpose_purchase', 'loan_purpose_no_cash_out_refinance',\n",
       "       'loan_purpose_cash_out_refinance', 'property_type_single_family',\n",
       "       'property_type_condo', 'property_type_coop',\n",
       "       'property_type_manufactured_housing',\n",
       "       'property_type_planed_urban_development', 'occupancy_status_principal',\n",
       "       'occupancy_status_second', 'occupancy_status_investor',\n",
       "       'original_housing_value', 'Average_same_state_upb', 'loan_size',\n",
       "       'hpi_factor', 'mltv', 'slope', 'modified'],\n",
       "      dtype='object')"
      ]
     },
     "execution_count": 17,
     "metadata": {},
     "output_type": "execute_result"
    }
   ],
   "source": [
    "df_train.columns"
   ]
  },
  {
   "cell_type": "code",
   "execution_count": 18,
   "metadata": {},
   "outputs": [],
   "source": [
    "X_train = df_train[['LAST_RT', 'LAST_UPB', 'LOAN_AGE', 'ORIG_RT', 'ORIG_AMT', 'OLTV',\n",
    "       'NUM_BO', 'DTI', 'CSCORE_B', 'NUM_UNIT', 'first_home_buyer',\n",
    "       'loan_purpose_purchase', 'loan_purpose_no_cash_out_refinance',\n",
    "       'loan_purpose_cash_out_refinance', 'property_type_single_family',\n",
    "       'property_type_condo', 'property_type_coop',\n",
    "       'property_type_manufactured_housing',\n",
    "       'property_type_planed_urban_development', 'occupancy_status_principal',\n",
    "       'occupancy_status_second', 'occupancy_status_investor',\n",
    "       'original_housing_value', 'Average_same_state_upb', 'loan_size',\n",
    "       'hpi_factor', 'mltv', 'slope', 'modified']]"
   ]
  },
  {
   "cell_type": "code",
   "execution_count": 19,
   "metadata": {},
   "outputs": [],
   "source": [
    "y_train = df_train['60_days_delinq']"
   ]
  },
  {
   "cell_type": "code",
   "execution_count": 20,
   "metadata": {},
   "outputs": [],
   "source": [
    "X_test = df_test[['LAST_RT', 'LAST_UPB', 'LOAN_AGE', 'ORIG_RT', 'ORIG_AMT', 'OLTV',\n",
    "       'NUM_BO', 'DTI', 'CSCORE_B', 'NUM_UNIT', 'first_home_buyer',\n",
    "       'loan_purpose_purchase', 'loan_purpose_no_cash_out_refinance',\n",
    "       'loan_purpose_cash_out_refinance', 'property_type_single_family',\n",
    "       'property_type_condo', 'property_type_coop',\n",
    "       'property_type_manufactured_housing',\n",
    "       'property_type_planed_urban_development', 'occupancy_status_principal',\n",
    "       'occupancy_status_second', 'occupancy_status_investor',\n",
    "       'original_housing_value', 'Average_same_state_upb', 'loan_size',\n",
    "       'hpi_factor', 'mltv', 'slope', 'modified']]"
   ]
  },
  {
   "cell_type": "code",
   "execution_count": 21,
   "metadata": {},
   "outputs": [],
   "source": [
    "y_test = df_test['60_days_delinq']"
   ]
  },
  {
   "cell_type": "code",
   "execution_count": 22,
   "metadata": {},
   "outputs": [
    {
     "data": {
      "text/plain": [
       "((3638799, 29), (1470336, 29))"
      ]
     },
     "execution_count": 22,
     "metadata": {},
     "output_type": "execute_result"
    }
   ],
   "source": [
    "X_train.shape , X_test.shape"
   ]
  },
  {
   "cell_type": "code",
   "execution_count": null,
   "metadata": {},
   "outputs": [],
   "source": [
    "y_train = np.array(y_train).reshape(y_train.shape[0],1)"
   ]
  },
  {
   "cell_type": "code",
   "execution_count": 22,
   "metadata": {},
   "outputs": [],
   "source": [
    "y_test = np.array(y_test).reshape(y_test.shape[0],1)"
   ]
  },
  {
   "cell_type": "code",
   "execution_count": 23,
   "metadata": {},
   "outputs": [],
   "source": [
    "model = LogisticRegression()"
   ]
  },
  {
   "cell_type": "code",
   "execution_count": 24,
   "metadata": {},
   "outputs": [
    {
     "name": "stderr",
     "output_type": "stream",
     "text": [
      "/home/zerap/anaconda3/lib/python3.7/site-packages/sklearn/linear_model/logistic.py:433: FutureWarning: Default solver will be changed to 'lbfgs' in 0.22. Specify a solver to silence this warning.\n",
      "  FutureWarning)\n",
      "/home/zerap/anaconda3/lib/python3.7/site-packages/sklearn/utils/validation.py:761: DataConversionWarning: A column-vector y was passed when a 1d array was expected. Please change the shape of y to (n_samples, ), for example using ravel().\n",
      "  y = column_or_1d(y, warn=True)\n"
     ]
    },
    {
     "data": {
      "text/plain": [
       "LogisticRegression(C=1.0, class_weight=None, dual=False, fit_intercept=True,\n",
       "          intercept_scaling=1, max_iter=100, multi_class='warn',\n",
       "          n_jobs=None, penalty='l2', random_state=None, solver='warn',\n",
       "          tol=0.0001, verbose=0, warm_start=False)"
      ]
     },
     "execution_count": 24,
     "metadata": {},
     "output_type": "execute_result"
    }
   ],
   "source": [
    "model.fit(X_train,y_train)"
   ]
  },
  {
   "cell_type": "code",
   "execution_count": 25,
   "metadata": {},
   "outputs": [],
   "source": [
    "y_predicted = model.predict(X_test)"
   ]
  },
  {
   "cell_type": "code",
   "execution_count": 26,
   "metadata": {},
   "outputs": [
    {
     "data": {
      "text/plain": [
       "0.8970738661095151"
      ]
     },
     "execution_count": 26,
     "metadata": {},
     "output_type": "execute_result"
    }
   ],
   "source": [
    "accuracy_score(y_test, y_predicted)"
   ]
  },
  {
   "cell_type": "code",
   "execution_count": 27,
   "metadata": {},
   "outputs": [
    {
     "data": {
      "text/plain": [
       "0.8761453164446766"
      ]
     },
     "execution_count": 27,
     "metadata": {},
     "output_type": "execute_result"
    }
   ],
   "source": [
    "1 - df_test['60_days_delinq'].sum()/len(df_test) # benchmark"
   ]
  },
  {
   "cell_type": "code",
   "execution_count": 28,
   "metadata": {},
   "outputs": [],
   "source": [
    "model2 = DecisionTreeClassifier()"
   ]
  },
  {
   "cell_type": "code",
   "execution_count": 29,
   "metadata": {},
   "outputs": [
    {
     "data": {
      "text/plain": [
       "DecisionTreeClassifier(class_weight=None, criterion='gini', max_depth=None,\n",
       "            max_features=None, max_leaf_nodes=None,\n",
       "            min_impurity_decrease=0.0, min_impurity_split=None,\n",
       "            min_samples_leaf=1, min_samples_split=2,\n",
       "            min_weight_fraction_leaf=0.0, presort=False, random_state=None,\n",
       "            splitter='best')"
      ]
     },
     "execution_count": 29,
     "metadata": {},
     "output_type": "execute_result"
    }
   ],
   "source": [
    "model2.fit(X_train, y_train)"
   ]
  },
  {
   "cell_type": "code",
   "execution_count": 30,
   "metadata": {},
   "outputs": [],
   "source": [
    "y_predicted2 = model2.predict(X_test)"
   ]
  },
  {
   "cell_type": "code",
   "execution_count": 31,
   "metadata": {},
   "outputs": [
    {
     "data": {
      "text/plain": [
       "0.827510174545138"
      ]
     },
     "execution_count": 31,
     "metadata": {},
     "output_type": "execute_result"
    }
   ],
   "source": [
    "accuracy_score(y_test, y_predicted2)"
   ]
  },
  {
   "cell_type": "code",
   "execution_count": 32,
   "metadata": {},
   "outputs": [],
   "source": [
    "model3 = KNeighborsClassifier(3)"
   ]
  },
  {
   "cell_type": "code",
   "execution_count": 33,
   "metadata": {},
   "outputs": [
    {
     "name": "stderr",
     "output_type": "stream",
     "text": [
      "/home/zerap/anaconda3/lib/python3.7/site-packages/ipykernel_launcher.py:1: DataConversionWarning: A column-vector y was passed when a 1d array was expected. Please change the shape of y to (n_samples, ), for example using ravel().\n",
      "  \"\"\"Entry point for launching an IPython kernel.\n"
     ]
    },
    {
     "data": {
      "text/plain": [
       "KNeighborsClassifier(algorithm='auto', leaf_size=30, metric='minkowski',\n",
       "           metric_params=None, n_jobs=None, n_neighbors=3, p=2,\n",
       "           weights='uniform')"
      ]
     },
     "execution_count": 33,
     "metadata": {},
     "output_type": "execute_result"
    }
   ],
   "source": [
    "model3.fit(X_train, y_train)"
   ]
  },
  {
   "cell_type": "code",
   "execution_count": 34,
   "metadata": {},
   "outputs": [],
   "source": [
    "y_predicted3 = model3.predict(X_test)"
   ]
  },
  {
   "cell_type": "code",
   "execution_count": 35,
   "metadata": {},
   "outputs": [
    {
     "data": {
      "text/plain": [
       "0.8415273787760077"
      ]
     },
     "execution_count": 35,
     "metadata": {},
     "output_type": "execute_result"
    }
   ],
   "source": [
    "accuracy_score(y_test, y_predicted3)"
   ]
  },
  {
   "cell_type": "code",
   "execution_count": 36,
   "metadata": {},
   "outputs": [],
   "source": [
    "model4 = GaussianNB()"
   ]
  },
  {
   "cell_type": "code",
   "execution_count": 37,
   "metadata": {},
   "outputs": [
    {
     "name": "stderr",
     "output_type": "stream",
     "text": [
      "/home/zerap/anaconda3/lib/python3.7/site-packages/sklearn/utils/validation.py:761: DataConversionWarning: A column-vector y was passed when a 1d array was expected. Please change the shape of y to (n_samples, ), for example using ravel().\n",
      "  y = column_or_1d(y, warn=True)\n"
     ]
    },
    {
     "data": {
      "text/plain": [
       "GaussianNB(priors=None, var_smoothing=1e-09)"
      ]
     },
     "execution_count": 37,
     "metadata": {},
     "output_type": "execute_result"
    }
   ],
   "source": [
    "model4.fit(X_train, y_train)"
   ]
  },
  {
   "cell_type": "code",
   "execution_count": 38,
   "metadata": {},
   "outputs": [],
   "source": [
    "y_predicted4 = model4.predict(X_test)"
   ]
  },
  {
   "cell_type": "code",
   "execution_count": 39,
   "metadata": {},
   "outputs": [
    {
     "data": {
      "text/plain": [
       "0.8891062995124924"
      ]
     },
     "execution_count": 39,
     "metadata": {},
     "output_type": "execute_result"
    }
   ],
   "source": [
    "accuracy_score(y_test, y_predicted4)"
   ]
  },
  {
   "cell_type": "code",
   "execution_count": 40,
   "metadata": {},
   "outputs": [
    {
     "data": {
      "text/plain": [
       "0.6361716539579397"
      ]
     },
     "execution_count": 40,
     "metadata": {},
     "output_type": "execute_result"
    }
   ],
   "source": [
    "roc_auc_score(y_test,y_predicted)"
   ]
  },
  {
   "cell_type": "code",
   "execution_count": 41,
   "metadata": {},
   "outputs": [
    {
     "data": {
      "text/plain": [
       "0.7458366469357117"
      ]
     },
     "execution_count": 41,
     "metadata": {},
     "output_type": "execute_result"
    }
   ],
   "source": [
    "roc_auc_score(y_test,y_predicted2)"
   ]
  },
  {
   "cell_type": "code",
   "execution_count": 42,
   "metadata": {},
   "outputs": [
    {
     "data": {
      "text/plain": [
       "0.5761446554000101"
      ]
     },
     "execution_count": 42,
     "metadata": {},
     "output_type": "execute_result"
    }
   ],
   "source": [
    "roc_auc_score(y_test,y_predicted3)"
   ]
  },
  {
   "cell_type": "code",
   "execution_count": 43,
   "metadata": {},
   "outputs": [
    {
     "data": {
      "text/plain": [
       "0.6227581776342992"
      ]
     },
     "execution_count": 43,
     "metadata": {},
     "output_type": "execute_result"
    }
   ],
   "source": [
    "roc_auc_score(y_test,y_predicted4)"
   ]
  },
  {
   "cell_type": "code",
   "execution_count": 44,
   "metadata": {},
   "outputs": [],
   "source": [
    "y_predicted0 = np.zeros(y_test.shape[0]).reshape([-1,1])"
   ]
  },
  {
   "cell_type": "code",
   "execution_count": 45,
   "metadata": {},
   "outputs": [
    {
     "data": {
      "text/plain": [
       "0.5"
      ]
     },
     "execution_count": 45,
     "metadata": {},
     "output_type": "execute_result"
    }
   ],
   "source": [
    "roc_auc_score(y_test,y_predicted0)"
   ]
  },
  {
   "cell_type": "code",
   "execution_count": 46,
   "metadata": {},
   "outputs": [],
   "source": [
    "model5 = RandomForestClassifier()"
   ]
  },
  {
   "cell_type": "code",
   "execution_count": 47,
   "metadata": {},
   "outputs": [
    {
     "name": "stderr",
     "output_type": "stream",
     "text": [
      "/home/zerap/anaconda3/lib/python3.7/site-packages/sklearn/ensemble/forest.py:246: FutureWarning: The default value of n_estimators will change from 10 in version 0.20 to 100 in 0.22.\n",
      "  \"10 in version 0.20 to 100 in 0.22.\", FutureWarning)\n",
      "/home/zerap/anaconda3/lib/python3.7/site-packages/ipykernel_launcher.py:1: DataConversionWarning: A column-vector y was passed when a 1d array was expected. Please change the shape of y to (n_samples,), for example using ravel().\n",
      "  \"\"\"Entry point for launching an IPython kernel.\n"
     ]
    },
    {
     "data": {
      "text/plain": [
       "RandomForestClassifier(bootstrap=True, class_weight=None, criterion='gini',\n",
       "            max_depth=None, max_features='auto', max_leaf_nodes=None,\n",
       "            min_impurity_decrease=0.0, min_impurity_split=None,\n",
       "            min_samples_leaf=1, min_samples_split=2,\n",
       "            min_weight_fraction_leaf=0.0, n_estimators=10, n_jobs=None,\n",
       "            oob_score=False, random_state=None, verbose=0,\n",
       "            warm_start=False)"
      ]
     },
     "execution_count": 47,
     "metadata": {},
     "output_type": "execute_result"
    }
   ],
   "source": [
    "model5.fit(X_train, y_train)"
   ]
  },
  {
   "cell_type": "code",
   "execution_count": 48,
   "metadata": {},
   "outputs": [],
   "source": [
    "y_predicted5 = model5.predict(X_test)"
   ]
  },
  {
   "cell_type": "code",
   "execution_count": 49,
   "metadata": {},
   "outputs": [
    {
     "data": {
      "text/plain": [
       "0.9192368275006529"
      ]
     },
     "execution_count": 49,
     "metadata": {},
     "output_type": "execute_result"
    }
   ],
   "source": [
    "accuracy_score(y_test,y_predicted5)"
   ]
  },
  {
   "cell_type": "code",
   "execution_count": 50,
   "metadata": {},
   "outputs": [
    {
     "data": {
      "text/plain": [
       "0.7459625220033829"
      ]
     },
     "execution_count": 50,
     "metadata": {},
     "output_type": "execute_result"
    }
   ],
   "source": [
    "roc_auc_score(y_test,y_predicted5)"
   ]
  },
  {
   "cell_type": "code",
   "execution_count": 51,
   "metadata": {},
   "outputs": [
    {
     "data": {
      "text/plain": [
       "3638799"
      ]
     },
     "execution_count": 51,
     "metadata": {},
     "output_type": "execute_result"
    }
   ],
   "source": [
    "len(X_train)"
   ]
  },
  {
   "cell_type": "code",
   "execution_count": 23,
   "metadata": {},
   "outputs": [],
   "source": [
    "from sklearn.ensemble import BaggingClassifier"
   ]
  },
  {
   "cell_type": "code",
   "execution_count": 24,
   "metadata": {},
   "outputs": [],
   "source": [
    "#grid search:"
   ]
  },
  {
   "cell_type": "code",
   "execution_count": 25,
   "metadata": {},
   "outputs": [],
   "source": [
    "from sklearn.model_selection import GridSearchCV"
   ]
  },
  {
   "cell_type": "code",
   "execution_count": 26,
   "metadata": {},
   "outputs": [
    {
     "data": {
      "text/plain": [
       "GridSearchCV(cv=3, error_score='raise-deprecating',\n",
       "       estimator=KNeighborsClassifier(algorithm='auto', leaf_size=30, metric='minkowski',\n",
       "           metric_params=None, n_jobs=None, n_neighbors=5, p=2,\n",
       "           weights='uniform'),\n",
       "       fit_params=None, iid='warn', n_jobs=None,\n",
       "       param_grid={'n_neighbors': [1, 3, 5, 7, 9]},\n",
       "       pre_dispatch='2*n_jobs', refit=True, return_train_score='warn',\n",
       "       scoring='accuracy', verbose=0)"
      ]
     },
     "execution_count": 26,
     "metadata": {},
     "output_type": "execute_result"
    }
   ],
   "source": [
    "model_knn = KNeighborsClassifier()\n",
    "k_range = [1,3,5,7,9]\n",
    "param_grid = dict(n_neighbors = k_range)\n",
    "model_knn_grid = GridSearchCV(model_knn,param_grid,cv=3,scoring = 'accuracy')\n",
    "model_knn_grid.fit(X_train,y_train)"
   ]
  },
  {
   "cell_type": "code",
   "execution_count": 79,
   "metadata": {},
   "outputs": [
    {
     "name": "stderr",
     "output_type": "stream",
     "text": [
      "/home/zerap/anaconda3/lib/python3.7/site-packages/sklearn/utils/deprecation.py:125: FutureWarning: You are accessing a training score ('split0_train_score'), which will not be available by default any more in 0.21. If you need training scores, please set return_train_score=True\n",
      "  warnings.warn(*warn_args, **warn_kwargs)\n",
      "/home/zerap/anaconda3/lib/python3.7/site-packages/sklearn/utils/deprecation.py:125: FutureWarning: You are accessing a training score ('split1_train_score'), which will not be available by default any more in 0.21. If you need training scores, please set return_train_score=True\n",
      "  warnings.warn(*warn_args, **warn_kwargs)\n",
      "/home/zerap/anaconda3/lib/python3.7/site-packages/sklearn/utils/deprecation.py:125: FutureWarning: You are accessing a training score ('split2_train_score'), which will not be available by default any more in 0.21. If you need training scores, please set return_train_score=True\n",
      "  warnings.warn(*warn_args, **warn_kwargs)\n",
      "/home/zerap/anaconda3/lib/python3.7/site-packages/sklearn/utils/deprecation.py:125: FutureWarning: You are accessing a training score ('mean_train_score'), which will not be available by default any more in 0.21. If you need training scores, please set return_train_score=True\n",
      "  warnings.warn(*warn_args, **warn_kwargs)\n",
      "/home/zerap/anaconda3/lib/python3.7/site-packages/sklearn/utils/deprecation.py:125: FutureWarning: You are accessing a training score ('std_train_score'), which will not be available by default any more in 0.21. If you need training scores, please set return_train_score=True\n",
      "  warnings.warn(*warn_args, **warn_kwargs)\n"
     ]
    },
    {
     "data": {
      "text/plain": [
       "{'mean_fit_time': array([42.5400873 , 41.31865382, 43.20288642, 41.98973823, 41.66333779]),\n",
       " 'std_fit_time': array([3.80589134, 2.65403464, 3.2758464 , 3.33002006, 3.17077091]),\n",
       " 'mean_score_time': array([148.22924225, 181.68552224, 198.36726769, 214.02724957,\n",
       "        228.04138652]),\n",
       " 'std_score_time': array([1.05320406, 0.19224849, 2.06381314, 0.40167747, 1.10860016]),\n",
       " 'param_n_neighbors': masked_array(data=[1, 3, 5, 7, 9],\n",
       "              mask=[False, False, False, False, False],\n",
       "        fill_value='?',\n",
       "             dtype=object),\n",
       " 'params': [{'n_neighbors': 1},\n",
       "  {'n_neighbors': 3},\n",
       "  {'n_neighbors': 5},\n",
       "  {'n_neighbors': 7},\n",
       "  {'n_neighbors': 9}],\n",
       " 'split0_test_score': array([0.80306925, 0.8278645 , 0.83508501, 0.8378535 , 0.83919488]),\n",
       " 'split1_test_score': array([0.80214406, 0.83422497, 0.84248512, 0.84548693, 0.84669969]),\n",
       " 'split2_test_score': array([0.74806584, 0.7881596 , 0.80233105, 0.80965957, 0.8139434 ]),\n",
       " 'mean_test_score': array([0.7844264 , 0.8167497 , 0.82663373, 0.83100001, 0.83327933]),\n",
       " 'std_test_score': array([0.02571355, 0.02038232, 0.01744812, 0.01540839, 0.01401163]),\n",
       " 'rank_test_score': array([5, 4, 3, 2, 1], dtype=int32),\n",
       " 'split0_train_score': array([1.        , 0.90632537, 0.88592028, 0.87658876, 0.87110783]),\n",
       " 'split1_train_score': array([1.        , 0.90147807, 0.88092747, 0.87151104, 0.8661072 ]),\n",
       " 'split2_train_score': array([1.        , 0.90213437, 0.88180308, 0.87264471, 0.86736742]),\n",
       " 'mean_train_score': array([1.        , 0.9033126 , 0.88288361, 0.8735815 , 0.86819415]),\n",
       " 'std_train_score': array([0.        , 0.00214713, 0.0021768 , 0.00217624, 0.00212355])}"
      ]
     },
     "execution_count": 79,
     "metadata": {},
     "output_type": "execute_result"
    }
   ],
   "source": [
    "model_knn_grid.cv_results_"
   ]
  },
  {
   "cell_type": "code",
   "execution_count": 34,
   "metadata": {},
   "outputs": [
    {
     "data": {
      "text/plain": [
       "GridSearchCV(cv=3, error_score='raise-deprecating',\n",
       "       estimator=KNeighborsClassifier(algorithm='auto', leaf_size=30, metric='minkowski',\n",
       "           metric_params=None, n_jobs=None, n_neighbors=5, p=2,\n",
       "           weights='uniform'),\n",
       "       fit_params=None, iid='warn', n_jobs=None,\n",
       "       param_grid={'n_neighbors': [11, 13, 15, 17, 19, 21, 23, 25]},\n",
       "       pre_dispatch='2*n_jobs', refit=True, return_train_score='warn',\n",
       "       scoring='accuracy', verbose=0)"
      ]
     },
     "execution_count": 34,
     "metadata": {},
     "output_type": "execute_result"
    }
   ],
   "source": [
    "k_range1 = [11,13,15,17,19,21,23,25]\n",
    "param_grid1 = dict(n_neighbors = k_range1)\n",
    "model_knn_grid1 = GridSearchCV(model_knn,param_grid1,cv=3,scoring = 'accuracy')\n",
    "model_knn_grid1.fit(X_train,y_train)"
   ]
  },
  {
   "cell_type": "code",
   "execution_count": 35,
   "metadata": {},
   "outputs": [],
   "source": [
    "model_knn_grid1_results = model_knn_grid1.cv_results_"
   ]
  },
  {
   "cell_type": "code",
   "execution_count": 36,
   "metadata": {},
   "outputs": [],
   "source": [
    "model_knn_grid_results = model_knn_grid.cv_results_"
   ]
  },
  {
   "cell_type": "code",
   "execution_count": 44,
   "metadata": {},
   "outputs": [
    {
     "name": "stderr",
     "output_type": "stream",
     "text": [
      "/home/zerap/anaconda3/lib/python3.7/site-packages/sklearn/utils/deprecation.py:125: FutureWarning: You are accessing a training score ('split0_train_score'), which will not be available by default any more in 0.21. If you need training scores, please set return_train_score=True\n",
      "  warnings.warn(*warn_args, **warn_kwargs)\n",
      "/home/zerap/anaconda3/lib/python3.7/site-packages/sklearn/utils/deprecation.py:125: FutureWarning: You are accessing a training score ('split1_train_score'), which will not be available by default any more in 0.21. If you need training scores, please set return_train_score=True\n",
      "  warnings.warn(*warn_args, **warn_kwargs)\n",
      "/home/zerap/anaconda3/lib/python3.7/site-packages/sklearn/utils/deprecation.py:125: FutureWarning: You are accessing a training score ('split2_train_score'), which will not be available by default any more in 0.21. If you need training scores, please set return_train_score=True\n",
      "  warnings.warn(*warn_args, **warn_kwargs)\n",
      "/home/zerap/anaconda3/lib/python3.7/site-packages/sklearn/utils/deprecation.py:125: FutureWarning: You are accessing a training score ('mean_train_score'), which will not be available by default any more in 0.21. If you need training scores, please set return_train_score=True\n",
      "  warnings.warn(*warn_args, **warn_kwargs)\n",
      "/home/zerap/anaconda3/lib/python3.7/site-packages/sklearn/utils/deprecation.py:125: FutureWarning: You are accessing a training score ('std_train_score'), which will not be available by default any more in 0.21. If you need training scores, please set return_train_score=True\n",
      "  warnings.warn(*warn_args, **warn_kwargs)\n"
     ]
    },
    {
     "data": {
      "text/plain": [
       "{'mean_fit_time': array([41.7367955 , 41.54949713, 41.99180373, 42.0687933 , 41.99687195,\n",
       "        41.7134366 , 41.90839815, 42.01676345]),\n",
       " 'std_fit_time': array([3.14813333, 2.80123969, 2.86335726, 2.82190031, 3.13504156,\n",
       "        2.97458433, 2.86080402, 2.76881921]),\n",
       " 'mean_score_time': array([245.13443255, 254.54409027, 265.72838418, 276.74152223,\n",
       "        285.17473078, 295.28130285, 304.56792068, 312.3947564 ]),\n",
       " 'std_score_time': array([1.8079181 , 0.63803868, 0.70491876, 0.72907359, 1.57464569,\n",
       "        0.48234879, 1.32028784, 0.71067328]),\n",
       " 'param_n_neighbors': masked_array(data=[11, 13, 15, 17, 19, 21, 23, 25],\n",
       "              mask=[False, False, False, False, False, False, False, False],\n",
       "        fill_value='?',\n",
       "             dtype=object),\n",
       " 'params': [{'n_neighbors': 11},\n",
       "  {'n_neighbors': 13},\n",
       "  {'n_neighbors': 15},\n",
       "  {'n_neighbors': 17},\n",
       "  {'n_neighbors': 19},\n",
       "  {'n_neighbors': 21},\n",
       "  {'n_neighbors': 23},\n",
       "  {'n_neighbors': 25}],\n",
       " 'split0_test_score': array([0.83970356, 0.84007209, 0.84037136, 0.84050163, 0.8406558 ,\n",
       "        0.84082316, 0.84085449, 0.84085284]),\n",
       " 'split1_test_score': array([0.84711439, 0.84744252, 0.84739305, 0.84728093, 0.84722899,\n",
       "        0.84714407, 0.84711357, 0.84707564]),\n",
       " 'split2_test_score': array([0.81716865, 0.81942928, 0.82144011, 0.82309726, 0.82453674,\n",
       "        0.8257594 , 0.82674132, 0.82754763]),\n",
       " 'mean_test_score': array([0.83466221, 0.83564797, 0.83640152, 0.83695994, 0.83747385,\n",
       "        0.83790888, 0.83823646, 0.83849204]),\n",
       " 'std_test_score': array([0.01273442, 0.0118565 , 0.01096079, 0.01018561, 0.00953338,\n",
       "        0.00897016, 0.00852047, 0.00814518]),\n",
       " 'rank_test_score': array([8, 7, 6, 5, 4, 3, 2, 1], dtype=int32),\n",
       " 'split0_train_score': array([0.86746707, 0.86482966, 0.86278132, 0.8613105 , 0.86003714,\n",
       "        0.85897072, 0.85818172, 0.85743642]),\n",
       " 'split1_train_score': array([0.86255506, 0.85989581, 0.85800205, 0.85653783, 0.85528096,\n",
       "        0.85422237, 0.85342472, 0.85276598]),\n",
       " 'split2_train_score': array([0.86378478, 0.8611548 , 0.85928701, 0.85787432, 0.85663476,\n",
       "        0.85556669, 0.85468453, 0.85391326]),\n",
       " 'mean_train_score': array([0.8646023 , 0.86196009, 0.86002346, 0.85857422, 0.85731762,\n",
       "        0.85625326, 0.85543032, 0.85470522]),\n",
       " 'std_train_score': array([0.00208698, 0.00209318, 0.00201943, 0.00201031, 0.00200084,\n",
       "        0.00199837, 0.00201237, 0.00198723])}"
      ]
     },
     "execution_count": 44,
     "metadata": {},
     "output_type": "execute_result"
    }
   ],
   "source": [
    "model_knn_grid1_results"
   ]
  },
  {
   "cell_type": "code",
   "execution_count": 42,
   "metadata": {},
   "outputs": [
    {
     "name": "stderr",
     "output_type": "stream",
     "text": [
      "/home/zerap/anaconda3/lib/python3.7/site-packages/sklearn/linear_model/logistic.py:433: FutureWarning: Default solver will be changed to 'lbfgs' in 0.22. Specify a solver to silence this warning.\n",
      "  FutureWarning)\n",
      "/home/zerap/anaconda3/lib/python3.7/site-packages/sklearn/linear_model/logistic.py:433: FutureWarning: Default solver will be changed to 'lbfgs' in 0.22. Specify a solver to silence this warning.\n",
      "  FutureWarning)\n",
      "/home/zerap/anaconda3/lib/python3.7/site-packages/sklearn/linear_model/logistic.py:433: FutureWarning: Default solver will be changed to 'lbfgs' in 0.22. Specify a solver to silence this warning.\n",
      "  FutureWarning)\n",
      "/home/zerap/anaconda3/lib/python3.7/site-packages/sklearn/linear_model/logistic.py:433: FutureWarning: Default solver will be changed to 'lbfgs' in 0.22. Specify a solver to silence this warning.\n",
      "  FutureWarning)\n",
      "/home/zerap/anaconda3/lib/python3.7/site-packages/sklearn/linear_model/logistic.py:433: FutureWarning: Default solver will be changed to 'lbfgs' in 0.22. Specify a solver to silence this warning.\n",
      "  FutureWarning)\n",
      "/home/zerap/anaconda3/lib/python3.7/site-packages/sklearn/linear_model/logistic.py:433: FutureWarning: Default solver will be changed to 'lbfgs' in 0.22. Specify a solver to silence this warning.\n",
      "  FutureWarning)\n",
      "/home/zerap/anaconda3/lib/python3.7/site-packages/sklearn/linear_model/logistic.py:433: FutureWarning: Default solver will be changed to 'lbfgs' in 0.22. Specify a solver to silence this warning.\n",
      "  FutureWarning)\n",
      "/home/zerap/anaconda3/lib/python3.7/site-packages/sklearn/linear_model/logistic.py:433: FutureWarning: Default solver will be changed to 'lbfgs' in 0.22. Specify a solver to silence this warning.\n",
      "  FutureWarning)\n",
      "/home/zerap/anaconda3/lib/python3.7/site-packages/sklearn/linear_model/logistic.py:433: FutureWarning: Default solver will be changed to 'lbfgs' in 0.22. Specify a solver to silence this warning.\n",
      "  FutureWarning)\n",
      "/home/zerap/anaconda3/lib/python3.7/site-packages/sklearn/linear_model/logistic.py:433: FutureWarning: Default solver will be changed to 'lbfgs' in 0.22. Specify a solver to silence this warning.\n",
      "  FutureWarning)\n",
      "/home/zerap/anaconda3/lib/python3.7/site-packages/sklearn/linear_model/logistic.py:433: FutureWarning: Default solver will be changed to 'lbfgs' in 0.22. Specify a solver to silence this warning.\n",
      "  FutureWarning)\n",
      "/home/zerap/anaconda3/lib/python3.7/site-packages/sklearn/linear_model/logistic.py:433: FutureWarning: Default solver will be changed to 'lbfgs' in 0.22. Specify a solver to silence this warning.\n",
      "  FutureWarning)\n",
      "/home/zerap/anaconda3/lib/python3.7/site-packages/sklearn/linear_model/logistic.py:433: FutureWarning: Default solver will be changed to 'lbfgs' in 0.22. Specify a solver to silence this warning.\n",
      "  FutureWarning)\n",
      "/home/zerap/anaconda3/lib/python3.7/site-packages/sklearn/linear_model/logistic.py:433: FutureWarning: Default solver will be changed to 'lbfgs' in 0.22. Specify a solver to silence this warning.\n",
      "  FutureWarning)\n",
      "/home/zerap/anaconda3/lib/python3.7/site-packages/sklearn/linear_model/logistic.py:433: FutureWarning: Default solver will be changed to 'lbfgs' in 0.22. Specify a solver to silence this warning.\n",
      "  FutureWarning)\n",
      "/home/zerap/anaconda3/lib/python3.7/site-packages/sklearn/linear_model/logistic.py:433: FutureWarning: Default solver will be changed to 'lbfgs' in 0.22. Specify a solver to silence this warning.\n",
      "  FutureWarning)\n",
      "/home/zerap/anaconda3/lib/python3.7/site-packages/sklearn/linear_model/logistic.py:433: FutureWarning: Default solver will be changed to 'lbfgs' in 0.22. Specify a solver to silence this warning.\n",
      "  FutureWarning)\n",
      "/home/zerap/anaconda3/lib/python3.7/site-packages/sklearn/linear_model/logistic.py:433: FutureWarning: Default solver will be changed to 'lbfgs' in 0.22. Specify a solver to silence this warning.\n",
      "  FutureWarning)\n",
      "/home/zerap/anaconda3/lib/python3.7/site-packages/sklearn/linear_model/logistic.py:433: FutureWarning: Default solver will be changed to 'lbfgs' in 0.22. Specify a solver to silence this warning.\n",
      "  FutureWarning)\n",
      "/home/zerap/anaconda3/lib/python3.7/site-packages/sklearn/linear_model/logistic.py:433: FutureWarning: Default solver will be changed to 'lbfgs' in 0.22. Specify a solver to silence this warning.\n",
      "  FutureWarning)\n",
      "/home/zerap/anaconda3/lib/python3.7/site-packages/sklearn/linear_model/logistic.py:433: FutureWarning: Default solver will be changed to 'lbfgs' in 0.22. Specify a solver to silence this warning.\n",
      "  FutureWarning)\n",
      "/home/zerap/anaconda3/lib/python3.7/site-packages/sklearn/linear_model/logistic.py:433: FutureWarning: Default solver will be changed to 'lbfgs' in 0.22. Specify a solver to silence this warning.\n",
      "  FutureWarning)\n"
     ]
    },
    {
     "data": {
      "text/plain": [
       "GridSearchCV(cv=3, error_score='raise-deprecating',\n",
       "       estimator=LogisticRegression(C=1.0, class_weight=None, dual=False, fit_intercept=True,\n",
       "          intercept_scaling=1, max_iter=100, multi_class='warn',\n",
       "          n_jobs=None, penalty='l2', random_state=None, solver='warn',\n",
       "          tol=0.0001, verbose=0, warm_start=False),\n",
       "       fit_params=None, iid='warn', n_jobs=None,\n",
       "       param_grid={'C': [0.001, 0.01, 0.1, 1, 10, 100, 1000]},\n",
       "       pre_dispatch='2*n_jobs', refit=True, return_train_score='warn',\n",
       "       scoring='accuracy', verbose=0)"
      ]
     },
     "execution_count": 42,
     "metadata": {},
     "output_type": "execute_result"
    }
   ],
   "source": [
    "C_range = [0.001,0.01,0.1,1,10,100,1000]\n",
    "param_grid_l = dict(C = C_range)\n",
    "lr = LogisticRegression()\n",
    "model_lr_grid = GridSearchCV(lr,param_grid_l,cv = 3, scoring = 'accuracy')\n",
    "model_lr_grid.fit(X_train,y_train)"
   ]
  },
  {
   "cell_type": "code",
   "execution_count": 43,
   "metadata": {},
   "outputs": [
    {
     "data": {
      "text/plain": [
       "GridSearchCV(cv=3, error_score='raise-deprecating',\n",
       "       estimator=DecisionTreeClassifier(class_weight=None, criterion='gini', max_depth=None,\n",
       "            max_features=None, max_leaf_nodes=None,\n",
       "            min_impurity_decrease=0.0, min_impurity_split=None,\n",
       "            min_samples_leaf=1, min_samples_split=2,\n",
       "            min_weight_fraction_leaf=0.0, presort=False, random_state=None,\n",
       "            splitter='best'),\n",
       "       fit_params=None, iid='warn', n_jobs=None,\n",
       "       param_grid={'min_samples_split': [1e-05, 0.0001, 0.001, 0.01], 'max_depth': range(1, 20, 2)},\n",
       "       pre_dispatch='2*n_jobs', refit=True, return_train_score='warn',\n",
       "       scoring='accuracy', verbose=0)"
      ]
     },
     "execution_count": 43,
     "metadata": {},
     "output_type": "execute_result"
    }
   ],
   "source": [
    "tree_parameters = {'min_samples_split':[0.00001,0.0001,0.001,0.01], 'max_depth': range(1,20,2)}\n",
    "tc = DecisionTreeClassifier()\n",
    "model_tc_grid = GridSearchCV(tc,tree_parameters,cv=3,scoring = 'accuracy')\n",
    "model_tc_grid.fit(X_train,y_train)"
   ]
  },
  {
   "cell_type": "code",
   "execution_count": 51,
   "metadata": {},
   "outputs": [
    {
     "data": {
      "text/plain": [
       "{'mean_fit_time': array([ 6.76940648,  6.82083734,  6.98082749,  7.02192855, 18.98952866,\n",
       "        19.78863796, 18.92408315, 19.37175393, 30.64814639, 31.44638268,\n",
       "        31.21823279, 31.1117936 , 42.38817437, 42.52246006, 42.4933339 ,\n",
       "        42.27107008, 53.01152786, 53.25042852, 52.71176147, 51.1677808 ,\n",
       "        62.42850693, 61.7450579 , 61.17593129, 55.17741648, 69.82181605,\n",
       "        70.02189612, 68.8394657 , 59.08280794, 78.56543255, 77.84260384,\n",
       "        73.48243793, 59.59350928, 86.09316341, 85.04879006, 78.2029624 ,\n",
       "        60.84954453, 93.9681081 , 90.73854478, 81.75665855, 61.19356076]),\n",
       " 'std_fit_time': array([0.19055218, 0.02562273, 0.22183664, 0.21141315, 0.67232881,\n",
       "        0.33103129, 0.53506909, 0.22802461, 1.0486729 , 0.45333892,\n",
       "        0.84765452, 0.50764187, 0.74886404, 0.68526451, 0.1250986 ,\n",
       "        0.1809433 , 0.35154866, 0.59803333, 0.2665512 , 0.03533384,\n",
       "        0.64918571, 0.57859642, 0.30398156, 0.63058652, 0.81183875,\n",
       "        0.48623771, 0.79407378, 1.22402159, 0.5721465 , 1.42335694,\n",
       "        0.4585617 , 1.9492837 , 0.51768768, 0.77400442, 0.21399093,\n",
       "        2.77290452, 2.13402924, 0.91326538, 1.87800826, 2.01191805]),\n",
       " 'mean_score_time': array([0.42041302, 0.38214866, 0.38068295, 0.38395055, 0.42097569,\n",
       "        0.43113605, 0.42024795, 0.44332194, 0.47031943, 0.46614854,\n",
       "        0.46916842, 0.46714385, 0.50051212, 0.50048876, 0.49968259,\n",
       "        0.49313259, 0.54178111, 0.5406661 , 0.5371654 , 0.516186  ,\n",
       "        0.58840521, 0.58945704, 0.59647425, 0.54052504, 0.625863  ,\n",
       "        0.62314908, 0.60580365, 0.54039931, 0.66716496, 0.65919693,\n",
       "        0.67566721, 0.57661517, 0.71713559, 0.68960094, 0.64804482,\n",
       "        0.56197071, 0.74795469, 0.71862292, 0.65339462, 0.56192795]),\n",
       " 'std_score_time': array([0.0291386 , 0.02476085, 0.01415177, 0.03398354, 0.01734681,\n",
       "        0.02664536, 0.02402041, 0.02237037, 0.00512877, 0.00588945,\n",
       "        0.00753443, 0.00562214, 0.0067931 , 0.00179157, 0.00471587,\n",
       "        0.00393364, 0.00776599, 0.00939182, 0.00782743, 0.00232073,\n",
       "        0.00911016, 0.01070311, 0.02410247, 0.01265078, 0.00919978,\n",
       "        0.00885304, 0.01255785, 0.01050903, 0.01122054, 0.01072358,\n",
       "        0.0607668 , 0.02954994, 0.01231493, 0.01189586, 0.02280501,\n",
       "        0.01473031, 0.0217083 , 0.01954861, 0.01305517, 0.01578136]),\n",
       " 'param_max_depth': masked_array(data=[1, 1, 1, 1, 3, 3, 3, 3, 5, 5, 5, 5, 7, 7, 7, 7, 9, 9,\n",
       "                    9, 9, 11, 11, 11, 11, 13, 13, 13, 13, 15, 15, 15, 15,\n",
       "                    17, 17, 17, 17, 19, 19, 19, 19],\n",
       "              mask=[False, False, False, False, False, False, False, False,\n",
       "                    False, False, False, False, False, False, False, False,\n",
       "                    False, False, False, False, False, False, False, False,\n",
       "                    False, False, False, False, False, False, False, False,\n",
       "                    False, False, False, False, False, False, False, False],\n",
       "        fill_value='?',\n",
       "             dtype=object),\n",
       " 'param_min_samples_split': masked_array(data=[1e-05, 0.0001, 0.001, 0.01, 1e-05, 0.0001, 0.001, 0.01,\n",
       "                    1e-05, 0.0001, 0.001, 0.01, 1e-05, 0.0001, 0.001, 0.01,\n",
       "                    1e-05, 0.0001, 0.001, 0.01, 1e-05, 0.0001, 0.001, 0.01,\n",
       "                    1e-05, 0.0001, 0.001, 0.01, 1e-05, 0.0001, 0.001, 0.01,\n",
       "                    1e-05, 0.0001, 0.001, 0.01, 1e-05, 0.0001, 0.001, 0.01],\n",
       "              mask=[False, False, False, False, False, False, False, False,\n",
       "                    False, False, False, False, False, False, False, False,\n",
       "                    False, False, False, False, False, False, False, False,\n",
       "                    False, False, False, False, False, False, False, False,\n",
       "                    False, False, False, False, False, False, False, False],\n",
       "        fill_value='?',\n",
       "             dtype=object),\n",
       " 'params': [{'max_depth': 1, 'min_samples_split': 1e-05},\n",
       "  {'max_depth': 1, 'min_samples_split': 0.0001},\n",
       "  {'max_depth': 1, 'min_samples_split': 0.001},\n",
       "  {'max_depth': 1, 'min_samples_split': 0.01},\n",
       "  {'max_depth': 3, 'min_samples_split': 1e-05},\n",
       "  {'max_depth': 3, 'min_samples_split': 0.0001},\n",
       "  {'max_depth': 3, 'min_samples_split': 0.001},\n",
       "  {'max_depth': 3, 'min_samples_split': 0.01},\n",
       "  {'max_depth': 5, 'min_samples_split': 1e-05},\n",
       "  {'max_depth': 5, 'min_samples_split': 0.0001},\n",
       "  {'max_depth': 5, 'min_samples_split': 0.001},\n",
       "  {'max_depth': 5, 'min_samples_split': 0.01},\n",
       "  {'max_depth': 7, 'min_samples_split': 1e-05},\n",
       "  {'max_depth': 7, 'min_samples_split': 0.0001},\n",
       "  {'max_depth': 7, 'min_samples_split': 0.001},\n",
       "  {'max_depth': 7, 'min_samples_split': 0.01},\n",
       "  {'max_depth': 9, 'min_samples_split': 1e-05},\n",
       "  {'max_depth': 9, 'min_samples_split': 0.0001},\n",
       "  {'max_depth': 9, 'min_samples_split': 0.001},\n",
       "  {'max_depth': 9, 'min_samples_split': 0.01},\n",
       "  {'max_depth': 11, 'min_samples_split': 1e-05},\n",
       "  {'max_depth': 11, 'min_samples_split': 0.0001},\n",
       "  {'max_depth': 11, 'min_samples_split': 0.001},\n",
       "  {'max_depth': 11, 'min_samples_split': 0.01},\n",
       "  {'max_depth': 13, 'min_samples_split': 1e-05},\n",
       "  {'max_depth': 13, 'min_samples_split': 0.0001},\n",
       "  {'max_depth': 13, 'min_samples_split': 0.001},\n",
       "  {'max_depth': 13, 'min_samples_split': 0.01},\n",
       "  {'max_depth': 15, 'min_samples_split': 1e-05},\n",
       "  {'max_depth': 15, 'min_samples_split': 0.0001},\n",
       "  {'max_depth': 15, 'min_samples_split': 0.001},\n",
       "  {'max_depth': 15, 'min_samples_split': 0.01},\n",
       "  {'max_depth': 17, 'min_samples_split': 1e-05},\n",
       "  {'max_depth': 17, 'min_samples_split': 0.0001},\n",
       "  {'max_depth': 17, 'min_samples_split': 0.001},\n",
       "  {'max_depth': 17, 'min_samples_split': 0.01},\n",
       "  {'max_depth': 19, 'min_samples_split': 1e-05},\n",
       "  {'max_depth': 19, 'min_samples_split': 0.0001},\n",
       "  {'max_depth': 19, 'min_samples_split': 0.001},\n",
       "  {'max_depth': 19, 'min_samples_split': 0.01}],\n",
       " 'split0_test_score': array([0.89208646, 0.89208646, 0.89208646, 0.89208646, 0.89483105,\n",
       "        0.89483105, 0.89483105, 0.89483105, 0.89298181, 0.89298181,\n",
       "        0.89298181, 0.89298181, 0.89436194, 0.89436194, 0.89450209,\n",
       "        0.89244015, 0.89400907, 0.89429433, 0.89416737, 0.89244262,\n",
       "        0.89395383, 0.89455568, 0.89491926, 0.89244015, 0.89315742,\n",
       "        0.89504046, 0.89495719, 0.89244015, 0.89247065, 0.895315  ,\n",
       "        0.89497697, 0.89244015, 0.88983077, 0.8955343 , 0.89497285,\n",
       "        0.89244015, 0.88769875, 0.89542712, 0.89487227, 0.89244015]),\n",
       " 'split1_test_score': array([0.8989936 , 0.8989936 , 0.8989936 , 0.8989936 , 0.89888807,\n",
       "        0.89888807, 0.8989936 , 0.8989936 , 0.90301196, 0.90301196,\n",
       "        0.90311748, 0.90204076, 0.90403839, 0.90404994, 0.90429974,\n",
       "        0.90230293, 0.90390318, 0.90386856, 0.90365008, 0.90180909,\n",
       "        0.89814359, 0.89660847, 0.89602229, 0.89806444, 0.88133063,\n",
       "        0.87908401, 0.88072466, 0.89707263, 0.87637569, 0.87481419,\n",
       "        0.87906175, 0.89707263, 0.87191461, 0.87165738, 0.87904443,\n",
       "        0.89707181, 0.86710972, 0.86968777, 0.87826945, 0.89707181]),\n",
       " 'split2_test_score': array([0.90439365, 0.90439365, 0.90439365, 0.90439365, 0.85910257,\n",
       "        0.85910257, 0.85910257, 0.85910257, 0.85734237, 0.85734237,\n",
       "        0.85734237, 0.85734237, 0.83151652, 0.83151652, 0.83568081,\n",
       "        0.84822645, 0.75266792, 0.75263659, 0.78615372, 0.84822645,\n",
       "        0.73632075, 0.73713613, 0.77479034, 0.84822645, 0.73092886,\n",
       "        0.73545343, 0.77426434, 0.84822397, 0.72793199, 0.73477408,\n",
       "        0.77408709, 0.84822397, 0.72455422, 0.73389357, 0.77404339,\n",
       "        0.84822397, 0.7205812 , 0.73266762, 0.77404174, 0.84822397]),\n",
       " 'mean_test_score': array([0.89849123, 0.89849123, 0.89849123, 0.89849123, 0.8842739 ,\n",
       "        0.8842739 , 0.88430908, 0.88430908, 0.88444539, 0.88444539,\n",
       "        0.88448057, 0.88412166, 0.87663897, 0.87664282, 0.8781609 ,\n",
       "        0.88098985, 0.85019343, 0.85026653, 0.86132375, 0.88082606,\n",
       "        0.8428061 , 0.8427668 , 0.855244  , 0.87957703, 0.83513901,\n",
       "        0.83652601, 0.8499821 , 0.8792456 , 0.83225949, 0.8349678 ,\n",
       "        0.8493753 , 0.8792456 , 0.82876658, 0.83369513, 0.84935359,\n",
       "        0.87924532, 0.82512994, 0.83259422, 0.84906119, 0.87924532]),\n",
       " 'std_test_score': array([0.00503693, 0.00503693, 0.00503693, 0.00503693, 0.01787571,\n",
       "        0.01787571, 0.01790451, 0.01790451, 0.01959729, 0.01959729,\n",
       "        0.01963065, 0.01929357, 0.03214999, 0.03215327, 0.03030308,\n",
       "        0.02351451, 0.0690791 , 0.06914532, 0.053294  , 0.0233664 ,\n",
       "        0.07531589, 0.07469682, 0.05689107, 0.02228679, 0.07384567,\n",
       "        0.07176532, 0.05385486, 0.02201696, 0.07406269, 0.07134025,\n",
       "        0.0536318 , 0.02201696, 0.07405133, 0.07124035, 0.05364788,\n",
       "        0.02201674, 0.07440339, 0.07143581, 0.05347801, 0.02201674]),\n",
       " 'rank_test_score': array([ 1,  1,  1,  1, 10, 10,  8,  8,  6,  6,  5, 12, 22, 21, 20, 13, 26,\n",
       "        25, 23, 14, 31, 32, 24, 15, 34, 33, 27, 16, 38, 35, 28, 16, 39, 36,\n",
       "        29, 18, 40, 37, 30, 18], dtype=int32),\n",
       " 'split0_train_score': array([0.90169362, 0.90169362, 0.90169362, 0.90169362, 0.90376505,\n",
       "        0.90376505, 0.90376505, 0.90376505, 0.90690949, 0.90690949,\n",
       "        0.90690949, 0.90690949, 0.90939809, 0.90939768, 0.90934285,\n",
       "        0.90836382, 0.91116571, 0.9111418 , 0.910798  , 0.90837742,\n",
       "        0.91386907, 0.91357227, 0.91152105, 0.90837784, 0.91727446,\n",
       "        0.91576819, 0.91178157, 0.90837825, 0.92188518, 0.91760959,\n",
       "        0.91187886, 0.90837825, 0.92760149, 0.91901445, 0.91191843,\n",
       "        0.90837825, 0.93331657, 0.91994402, 0.91192461, 0.90837825]),\n",
       " 'split1_train_score': array([0.89824005, 0.89824005, 0.89824005, 0.89824005, 0.89824046,\n",
       "        0.89824046, 0.89824005, 0.89824005, 0.90154444, 0.90154444,\n",
       "        0.90154403, 0.90084902, 0.9034316 , 0.90343036, 0.90340975,\n",
       "        0.90125258, 0.90545397, 0.90542511, 0.90512213, 0.90169861,\n",
       "        0.90790629, 0.9075996 , 0.90630892, 0.90171716, 0.91166124,\n",
       "        0.91042086, 0.90668734, 0.90171881, 0.91649539, 0.91282783,\n",
       "        0.90691324, 0.90171922, 0.92210452, 0.91450888, 0.90692602,\n",
       "        0.90171922, 0.92800344, 0.9155584 , 0.90694169, 0.90171922]),\n",
       " 'split2_train_score': array([0.89554003, 0.89554003, 0.89554003, 0.89554003, 0.89822237,\n",
       "        0.89822237, 0.89822237, 0.89822237, 0.90451702, 0.90451702,\n",
       "        0.90451702, 0.90451702, 0.9075683 , 0.90756748, 0.90712228,\n",
       "        0.90516751, 0.91010059, 0.91007875, 0.90854115, 0.90516751,\n",
       "        0.91240493, 0.91203021, 0.90914053, 0.90516751, 0.9159888 ,\n",
       "        0.9144442 , 0.90936766, 0.90516916, 0.92089426, 0.91674276,\n",
       "        0.90946206, 0.90516916, 0.92626884, 0.91789327, 0.90949792,\n",
       "        0.90516916, 0.93120769, 0.91872885, 0.90950493, 0.90516916]),\n",
       " 'mean_train_score': array([0.89849123, 0.89849123, 0.89849123, 0.89849123, 0.90007596,\n",
       "        0.90007596, 0.90007582, 0.90007582, 0.90432365, 0.90432365,\n",
       "        0.90432351, 0.90409184, 0.90679933, 0.90679851, 0.90662496,\n",
       "        0.90492797, 0.90890676, 0.90888189, 0.90815376, 0.90508118,\n",
       "        0.91139343, 0.91106736, 0.90899016, 0.9050875 , 0.91497483,\n",
       "        0.91354441, 0.90927886, 0.90508874, 0.91975828, 0.91572673,\n",
       "        0.90941805, 0.90508888, 0.92532495, 0.91713887, 0.90944746,\n",
       "        0.90508888, 0.93084257, 0.91807709, 0.90945708, 0.90508888]),\n",
       " 'std_train_score': array([0.00251847, 0.00251847, 0.00251847, 0.00251847, 0.00260859,\n",
       "        0.00260859, 0.00260869, 0.00260869, 0.00219454, 0.00219454,\n",
       "        0.00219471, 0.00249238, 0.00249576, 0.00249609, 0.00244757,\n",
       "        0.00290809, 0.00247991, 0.00248254, 0.0023333 , 0.0027273 ,\n",
       "        0.0025372 , 0.0025316 , 0.00213049, 0.0027198 , 0.00240113,\n",
       "        0.00227387, 0.00208066, 0.0027193 , 0.00234241, 0.00208015,\n",
       "        0.00202744, 0.00271913, 0.00234128, 0.00191518, 0.00203845,\n",
       "        0.00271913, 0.00218439, 0.00184878, 0.00203455, 0.00271913])}"
      ]
     },
     "execution_count": 51,
     "metadata": {},
     "output_type": "execute_result"
    }
   ],
   "source": [
    "model_tc_grid.cv_results_"
   ]
  },
  {
   "cell_type": "code",
   "execution_count": 52,
   "metadata": {},
   "outputs": [
    {
     "data": {
      "text/plain": [
       "KNeighborsClassifier(algorithm='auto', leaf_size=30, metric='minkowski',\n",
       "           metric_params=None, n_jobs=None, n_neighbors=9, p=2,\n",
       "           weights='uniform')"
      ]
     },
     "execution_count": 52,
     "metadata": {},
     "output_type": "execute_result"
    }
   ],
   "source": [
    "model_knn_grid.best_estimator_"
   ]
  },
  {
   "cell_type": "code",
   "execution_count": 53,
   "metadata": {},
   "outputs": [
    {
     "data": {
      "text/plain": [
       "KNeighborsClassifier(algorithm='auto', leaf_size=30, metric='minkowski',\n",
       "           metric_params=None, n_jobs=None, n_neighbors=25, p=2,\n",
       "           weights='uniform')"
      ]
     },
     "execution_count": 53,
     "metadata": {},
     "output_type": "execute_result"
    }
   ],
   "source": [
    "model_knn_grid1.best_estimator_"
   ]
  },
  {
   "cell_type": "code",
   "execution_count": 58,
   "metadata": {},
   "outputs": [
    {
     "data": {
      "text/plain": [
       "LogisticRegression(C=100, class_weight=None, dual=False, fit_intercept=True,\n",
       "          intercept_scaling=1, max_iter=100, multi_class='warn',\n",
       "          n_jobs=None, penalty='l2', random_state=None, solver='warn',\n",
       "          tol=0.0001, verbose=0, warm_start=False)"
      ]
     },
     "execution_count": 58,
     "metadata": {},
     "output_type": "execute_result"
    }
   ],
   "source": [
    "model_lr_grid.best_estimator_"
   ]
  },
  {
   "cell_type": "code",
   "execution_count": 59,
   "metadata": {},
   "outputs": [
    {
     "data": {
      "text/plain": [
       "DecisionTreeClassifier(class_weight=None, criterion='gini', max_depth=1,\n",
       "            max_features=None, max_leaf_nodes=None,\n",
       "            min_impurity_decrease=0.0, min_impurity_split=None,\n",
       "            min_samples_leaf=1, min_samples_split=1e-05,\n",
       "            min_weight_fraction_leaf=0.0, presort=False, random_state=None,\n",
       "            splitter='best')"
      ]
     },
     "execution_count": 59,
     "metadata": {},
     "output_type": "execute_result"
    }
   ],
   "source": [
    "model_tc_grid.best_estimator_"
   ]
  },
  {
   "cell_type": "code",
   "execution_count": 63,
   "metadata": {},
   "outputs": [
    {
     "data": {
      "text/plain": [
       "GridSearchCV(cv=3, error_score='raise-deprecating',\n",
       "       estimator=RandomForestClassifier(bootstrap=True, class_weight=None, criterion='gini',\n",
       "            max_depth=None, max_features='auto', max_leaf_nodes=None,\n",
       "            min_impurity_decrease=0.0, min_impurity_split=None,\n",
       "            min_samples_leaf=1, min_samples_split=1e-05,\n",
       "            min_weight_fraction_leaf=0.0, n_estimators='warn', n_jobs=None,\n",
       "            oob_score=False, random_state=None, verbose=0,\n",
       "            warm_start=False),\n",
       "       fit_params=None, iid='warn', n_jobs=None,\n",
       "       param_grid={'n_estimators': [10, 20, 50, 100, 200], 'max_depth': [1, 3, 5, 7, 9, 11, 13, 15, 17, 19]},\n",
       "       pre_dispatch='2*n_jobs', refit=True, return_train_score='warn',\n",
       "       scoring='accuracy', verbose=0)"
      ]
     },
     "execution_count": 63,
     "metadata": {},
     "output_type": "execute_result"
    }
   ],
   "source": [
    "model_rf = RandomForestClassifier(min_samples_split = 0.00001)\n",
    "param_grid = {'n_estimators':[10,20,50,100,200],'max_depth': list(range(1,20,2))}\n",
    "model_rf_grid = GridSearchCV(model_rf,param_grid,cv=3,scoring = 'accuracy')\n",
    "model_rf_grid.fit(X_train,y_train)"
   ]
  },
  {
   "cell_type": "code",
   "execution_count": 71,
   "metadata": {},
   "outputs": [],
   "source": [
    "y_predicted_knn_grid = model_knn_grid.predict(X_test)"
   ]
  },
  {
   "cell_type": "code",
   "execution_count": 72,
   "metadata": {},
   "outputs": [
    {
     "data": {
      "text/plain": [
       "0.8623926775920606"
      ]
     },
     "execution_count": 72,
     "metadata": {},
     "output_type": "execute_result"
    }
   ],
   "source": [
    "accuracy_score(y_test, y_predicted_knn_grid)"
   ]
  },
  {
   "cell_type": "code",
   "execution_count": 73,
   "metadata": {},
   "outputs": [],
   "source": [
    "y_predicted_lr_grid = model_lr_grid.predict(X_test)"
   ]
  },
  {
   "cell_type": "code",
   "execution_count": 74,
   "metadata": {},
   "outputs": [
    {
     "data": {
      "text/plain": [
       "0.8967528510490119"
      ]
     },
     "execution_count": 74,
     "metadata": {},
     "output_type": "execute_result"
    }
   ],
   "source": [
    "accuracy_score(y_test,y_predicted_lr_grid)"
   ]
  },
  {
   "cell_type": "code",
   "execution_count": 75,
   "metadata": {},
   "outputs": [],
   "source": [
    "y_predicted_tc_grid = model_tc_grid.predict(X_test)"
   ]
  },
  {
   "cell_type": "code",
   "execution_count": 76,
   "metadata": {},
   "outputs": [
    {
     "data": {
      "text/plain": [
       "0.9248688735091843"
      ]
     },
     "execution_count": 76,
     "metadata": {},
     "output_type": "execute_result"
    }
   ],
   "source": [
    "accuracy_score(y_test,y_predicted_tc_grid)"
   ]
  },
  {
   "cell_type": "code",
   "execution_count": 77,
   "metadata": {},
   "outputs": [],
   "source": [
    "y_predicted_rf_grid = model_rf_grid.predict(X_test)"
   ]
  },
  {
   "cell_type": "code",
   "execution_count": 78,
   "metadata": {},
   "outputs": [
    {
     "data": {
      "text/plain": [
       "0.9242921345869244"
      ]
     },
     "execution_count": 78,
     "metadata": {},
     "output_type": "execute_result"
    }
   ],
   "source": [
    "accuracy_score(y_test,y_predicted_rf_grid)"
   ]
  },
  {
   "cell_type": "code",
   "execution_count": 80,
   "metadata": {},
   "outputs": [],
   "source": [
    "# gridsearch result recording"
   ]
  },
  {
   "cell_type": "code",
   "execution_count": 112,
   "metadata": {},
   "outputs": [],
   "source": [
    "knn_paramlist = list(model_knn_grid.best_params_.keys())[0]\n",
    "knn_paramvalue = list(model_knn_grid.best_params_.values())[0]\n",
    "knn_best_insample_score = model_knn_grid.best_score_\n",
    "y_knng_predicted = model_knn_grid.predict(X_test)\n",
    "knn_outsample_accu = accuracy_score(y_test, y_knng_predicted)\n",
    "knn_outsample_roc = roc_auc_score(y_test, y_knng_predicted)\n",
    "knn_list = ['knn',knn_paramlist,knn_paramvalue,knn_best_insample_score,knn_outsample_accu,knn_outsample_roc]"
   ]
  },
  {
   "cell_type": "code",
   "execution_count": 116,
   "metadata": {},
   "outputs": [],
   "source": [
    "lr_paramlist = list(model_lr_grid.best_params_.keys())[0]\n",
    "lr_paramvalue = list(model_lr_grid.best_params_.values())[0]\n",
    "lr_best_insample_score = model_lr_grid.best_score_\n",
    "y_lrg_predicted = model_lr_grid.predict(X_test)\n",
    "lr_outsample_accu = accuracy_score(y_test, y_lrg_predicted)\n",
    "lr_outsample_roc = roc_auc_score(y_test, y_lrg_predicted)\n",
    "lr_list = ['lr',lr_paramlist,lr_paramvalue,lr_best_insample_score,lr_outsample_accu,lr_outsample_roc]"
   ]
  },
  {
   "cell_type": "code",
   "execution_count": 122,
   "metadata": {},
   "outputs": [],
   "source": [
    "tc_paramlist = (list(model_tc_grid.best_params_.keys())[0] , list(model_tc_grid.best_params_.keys())[1])\n",
    "tc_paramvalue = (list(model_tc_grid.best_params_.values())[0], list(model_tc_grid.best_params_.values())[1])\n",
    "tc_best_insample_score = model_tc_grid.best_score_\n",
    "y_tcg_predicted = model_tc_grid.predict(X_test)\n",
    "tc_outsample_accu = accuracy_score(y_test, y_tcg_predicted)\n",
    "tc_outsample_roc = roc_auc_score(y_test, y_tcg_predicted)\n",
    "tc_list = ['tc',tc_paramlist,tc_paramvalue,tc_best_insample_score,tc_outsample_accu,tc_outsample_roc]"
   ]
  },
  {
   "cell_type": "code",
   "execution_count": 124,
   "metadata": {},
   "outputs": [],
   "source": [
    "rf_paramlist = (list(model_rf_grid.best_params_.keys())[0] , list(model_rf_grid.best_params_.keys())[1])\n",
    "rf_paramvalue = (list(model_rf_grid.best_params_.values())[0], list(model_rf_grid.best_params_.values())[1])\n",
    "rf_best_insample_score = model_rf_grid.best_score_\n",
    "y_rfg_predicted = model_rf_grid.predict(X_test)\n",
    "rf_outsample_accu = accuracy_score(y_test, y_rfg_predicted)\n",
    "rf_outsample_roc = roc_auc_score(y_test, y_rfg_predicted)\n",
    "rf_list = ['rf',rf_paramlist,rf_paramvalue,rf_best_insample_score,rf_outsample_accu,rf_outsample_roc]"
   ]
  },
  {
   "cell_type": "code",
   "execution_count": 130,
   "metadata": {},
   "outputs": [],
   "source": [
    "grid_result = pd.DataFrame([knn_list,lr_list,tc_list,rf_list], columns = ['model','params','best params','in-sample validation accuracy',\n",
    "                                                            'out-sample prediction accuracy', 'out-sample roc-auc score'])\n",
    "grid_result.to_csv('grid_result.csv')"
   ]
  },
  {
   "cell_type": "code",
   "execution_count": null,
   "metadata": {},
   "outputs": [],
   "source": []
  }
 ],
 "metadata": {
  "kernelspec": {
   "display_name": "Python 3",
   "language": "python",
   "name": "python3"
  },
  "language_info": {
   "codemirror_mode": {
    "name": "ipython",
    "version": 3
   },
   "file_extension": ".py",
   "mimetype": "text/x-python",
   "name": "python",
   "nbconvert_exporter": "python",
   "pygments_lexer": "ipython3",
   "version": "3.7.3"
  }
 },
 "nbformat": 4,
 "nbformat_minor": 2
}
